{
 "cells": [
  {
   "cell_type": "code",
   "execution_count": 1,
   "id": "69d2260f",
   "metadata": {},
   "outputs": [],
   "source": [
    "import pandas as pd\n",
    "from modules import textPreProcess as tpp"
   ]
  },
  {
   "cell_type": "code",
   "execution_count": 2,
   "id": "1f9435f0",
   "metadata": {},
   "outputs": [],
   "source": [
    "data = pd.DataFrame.from_dict(\n",
    "    {\"record\": [1, 2, 3], \"text\": [\"hi Bill! a the\", \"hi 90324 PINK\", \"NEVER * a to\"]}\n",
    ")"
   ]
  },
  {
   "cell_type": "code",
   "execution_count": 3,
   "id": "22ec83b7",
   "metadata": {},
   "outputs": [],
   "source": [
    "data[\"mapped_text\"] = data[\"text\"].map(tpp.map_func)"
   ]
  },
  {
   "cell_type": "code",
   "execution_count": 4,
   "id": "b806ec2f",
   "metadata": {},
   "outputs": [
    {
     "data": {
      "text/html": [
       "<div>\n",
       "<style scoped>\n",
       "    .dataframe tbody tr th:only-of-type {\n",
       "        vertical-align: middle;\n",
       "    }\n",
       "\n",
       "    .dataframe tbody tr th {\n",
       "        vertical-align: top;\n",
       "    }\n",
       "\n",
       "    .dataframe thead th {\n",
       "        text-align: right;\n",
       "    }\n",
       "</style>\n",
       "<table border=\"1\" class=\"dataframe\">\n",
       "  <thead>\n",
       "    <tr style=\"text-align: right;\">\n",
       "      <th></th>\n",
       "      <th>record</th>\n",
       "      <th>text</th>\n",
       "      <th>mapped_text</th>\n",
       "    </tr>\n",
       "  </thead>\n",
       "  <tbody>\n",
       "    <tr>\n",
       "      <th>0</th>\n",
       "      <td>1</td>\n",
       "      <td>hi Bill! a the</td>\n",
       "      <td>hi bill a the</td>\n",
       "    </tr>\n",
       "    <tr>\n",
       "      <th>1</th>\n",
       "      <td>2</td>\n",
       "      <td>hi 90324 PINK</td>\n",
       "      <td>hi  pink</td>\n",
       "    </tr>\n",
       "    <tr>\n",
       "      <th>2</th>\n",
       "      <td>3</td>\n",
       "      <td>NEVER * a to</td>\n",
       "      <td>never  a to</td>\n",
       "    </tr>\n",
       "  </tbody>\n",
       "</table>\n",
       "</div>"
      ],
      "text/plain": [
       "   record            text    mapped_text\n",
       "0       1  hi Bill! a the  hi bill a the\n",
       "1       2   hi 90324 PINK       hi  pink\n",
       "2       3    NEVER * a to    never  a to"
      ]
     },
     "execution_count": 4,
     "metadata": {},
     "output_type": "execute_result"
    }
   ],
   "source": [
    "data"
   ]
  },
  {
   "cell_type": "code",
   "execution_count": 5,
   "id": "90a0a702",
   "metadata": {},
   "outputs": [],
   "source": [
    "vectorizer = tpp.get_tokenizer(data, \"text\")"
   ]
  },
  {
   "cell_type": "code",
   "execution_count": 6,
   "id": "84c56c02",
   "metadata": {},
   "outputs": [
    {
     "name": "stdout",
     "output_type": "stream",
     "text": [
      "TfidfVectorizer(analyzer='word', binary=False, decode_error='strict',\n",
      "                dtype=<class 'numpy.float64'>, encoding='utf-8',\n",
      "                input='content', lowercase=True, max_df=1.0, max_features=None,\n",
      "                min_df=1, ngram_range=(1, 1), norm='l2', preprocessor=None,\n",
      "                smooth_idf=True, stop_words='english', strip_accents=None,\n",
      "                sublinear_tf=False, token_pattern='(?u)\\\\b\\\\w\\\\w+\\\\b',\n",
      "                tokenizer=None, use_idf=True, vocabulary=None)\n"
     ]
    }
   ],
   "source": [
    "print(vectorizer)"
   ]
  },
  {
   "cell_type": "code",
   "execution_count": 11,
   "id": "69da2276",
   "metadata": {},
   "outputs": [
    {
     "data": {
      "text/plain": [
       "['hi', 'pink']"
      ]
     },
     "execution_count": 11,
     "metadata": {},
     "output_type": "execute_result"
    }
   ],
   "source": [
    "vectorizer.get_feature_names()"
   ]
  },
  {
   "cell_type": "code",
   "execution_count": 12,
   "id": "4eb524c0",
   "metadata": {},
   "outputs": [],
   "source": [
    "stop_words = vectorizer.get_stop_words()"
   ]
  },
  {
   "cell_type": "code",
   "execution_count": 17,
   "id": "c387fded",
   "metadata": {},
   "outputs": [
    {
     "data": {
      "text/plain": [
       "True"
      ]
     },
     "execution_count": 17,
     "metadata": {},
     "output_type": "execute_result"
    }
   ],
   "source": [
    "\"never\" in stop_words"
   ]
  },
  {
   "cell_type": "code",
   "execution_count": 18,
   "id": "522488b6",
   "metadata": {},
   "outputs": [
    {
     "data": {
      "text/plain": [
       "0    hi bill a the\n",
       "1          hi pink\n",
       "2       never a to\n",
       "dtype: object"
      ]
     },
     "execution_count": 18,
     "metadata": {},
     "output_type": "execute_result"
    }
   ],
   "source": [
    "pd.Series([\"hi bill a the\", \"hi pink\", \"never a to\"])"
   ]
  },
  {
   "cell_type": "code",
   "execution_count": null,
   "id": "fc600b39",
   "metadata": {},
   "outputs": [],
   "source": []
  }
 ],
 "metadata": {
  "kernelspec": {
   "display_name": "Python 3 (ipykernel)",
   "language": "python",
   "name": "python3"
  },
  "language_info": {
   "codemirror_mode": {
    "name": "ipython",
    "version": 3
   },
   "file_extension": ".py",
   "mimetype": "text/x-python",
   "name": "python",
   "nbconvert_exporter": "python",
   "pygments_lexer": "ipython3",
   "version": "3.11.2"
  }
 },
 "nbformat": 4,
 "nbformat_minor": 5
}
