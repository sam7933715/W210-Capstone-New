{
 "cells": [
  {
   "cell_type": "code",
   "execution_count": null,
   "metadata": {},
   "outputs": [],
   "source": [
    "# package imports\n",
    "# basics\n",
    "import numpy as np\n",
    "import pandas as pd\n",
    "\n",
    "# misc\n",
    "import gc\n",
    "import time\n",
    "import warnings\n",
    "\n",
    "# from mpl_toolkits.basemap import Basemap\n",
    "\n",
    "\n",
    "# graph section\n",
    "import networkx as nx\n",
    "import heapq  # for getting top n number of things from list,dict\n",
    "\n",
    "\n",
    "# settings\n",
    "start_time = time.time()\n",
    "color = sns.color_palette()\n",
    "sns.set_style(\"dark\")\n",
    "warnings.filterwarnings(\"ignore\")\n",
    "pyo.init_notebook_mode()\n",
    "\n",
    "from modules.dataImporter import yelp_import\n",
    "\n",
    "%matplotlib inline"
   ]
  },
  {
   "cell_type": "code",
   "execution_count": null,
   "metadata": {},
   "outputs": [],
   "source": [
    "# importing every dataset\n",
    "from modules.dataImporter import yelp_import\n",
    "\n",
    "\n",
    "datasets, spark = yelp_import(\"small\")\n",
    "\n",
    "business = datasets[\"businesses\"]\n",
    "check_in = datasets[\"checkins\"]\n",
    "reviews = datasets[\"reviews\"]\n",
    "tip = datasets[\"tips\"]\n",
    "user = datasets[\"users\"]"
   ]
  },
  {
   "cell_type": "code",
   "execution_count": null,
   "metadata": {},
   "outputs": [],
   "source": [
    "# Get the distribution of the ratings\n",
    "x = business[\"stars\"].value_counts()\n",
    "x = x.sort_index()\n",
    "# plot\n",
    "plt.figure(figsize=(8, 4))\n",
    "ax = sns.barplot(x.index, x.values, alpha=0.8)\n",
    "plt.title(\"Star Rating Distribution\")\n",
    "plt.ylabel(\"# of businesses\", fontsize=12)\n",
    "plt.xlabel(\"Star Ratings \", fontsize=12)\n",
    "\n",
    "# adding the text labels\n",
    "rects = ax.patches\n",
    "labels = x.values\n",
    "for rect, label in zip(rects, labels):\n",
    "    height = rect.get_height()\n",
    "    ax.text(\n",
    "        rect.get_x() + rect.get_width() / 2, height + 5, label, ha=\"center\", va=\"bottom\"\n",
    "    )\n",
    "\n",
    "plt.show()"
   ]
  },
  {
   "cell_type": "code",
   "execution_count": null,
   "metadata": {},
   "outputs": [],
   "source": [
    "business.info()"
   ]
  },
  {
   "cell_type": "code",
   "execution_count": null,
   "metadata": {},
   "outputs": [],
   "source": [
    "business.state.unique()"
   ]
  },
  {
   "cell_type": "code",
   "execution_count": null,
   "metadata": {},
   "outputs": [],
   "source": [
    "check_in.info()"
   ]
  },
  {
   "cell_type": "code",
   "execution_count": null,
   "metadata": {},
   "outputs": [],
   "source": [
    "reviews.info()"
   ]
  },
  {
   "cell_type": "code",
   "execution_count": null,
   "metadata": {},
   "outputs": [],
   "source": [
    "user.info()"
   ]
  },
  {
   "cell_type": "code",
   "execution_count": null,
   "metadata": {},
   "outputs": [],
   "source": [
    "display(business)"
   ]
  },
  {
   "cell_type": "code",
   "execution_count": null,
   "metadata": {},
   "outputs": [],
   "source": [
    "len(business.categories.unique())"
   ]
  },
  {
   "cell_type": "code",
   "execution_count": null,
   "metadata": {},
   "outputs": [],
   "source": [
    "tip.info()"
   ]
  },
  {
   "cell_type": "code",
   "execution_count": null,
   "metadata": {},
   "outputs": [],
   "source": [
    "user.describe()"
   ]
  },
  {
   "cell_type": "code",
   "execution_count": null,
   "metadata": {},
   "outputs": [],
   "source": [
    "display(user)"
   ]
  },
  {
   "cell_type": "code",
   "execution_count": null,
   "metadata": {},
   "outputs": [],
   "source": [
    "# How many users have multiple reviews?\n",
    "sns.histplot(data=user, x=\"review_count\", bins=5000)\n",
    "# plt.ylim(0, 10000)\n",
    "plt.xlim(0, 200)"
   ]
  },
  {
   "cell_type": "code",
   "execution_count": null,
   "metadata": {},
   "outputs": [],
   "source": [
    "# What are the popular business categories?\n",
    "sns.boxplot(\n",
    "    data=business.sample(1000, random_state=10), x=\"categories\", y=\"review_count\"\n",
    ")\n",
    "plt.xticks(rotation=90)\n",
    "plt.ylim(0, 1000)\n",
    "# plt.xlim(0, 3000)"
   ]
  }
 ],
 "metadata": {
  "kernelspec": {
   "display_name": "Python 3",
   "language": "python",
   "name": "python3"
  },
  "language_info": {
   "codemirror_mode": {
    "name": "ipython",
    "version": 3
   },
   "file_extension": ".py",
   "mimetype": "text/x-python",
   "name": "python",
   "nbconvert_exporter": "python",
   "pygments_lexer": "ipython3",
   "version": "3.11.2"
  },
  "vscode": {
   "interpreter": {
    "hash": "3040b1dd6e05017fe12d076be2863f0f664a3c3de7dcc95357f60dcc8b4dd557"
   }
  }
 },
 "nbformat": 4,
 "nbformat_minor": 2
}
