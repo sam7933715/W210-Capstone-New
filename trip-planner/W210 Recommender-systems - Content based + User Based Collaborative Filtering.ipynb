{
 "cells": [
  {
   "cell_type": "markdown",
   "metadata": {},
   "source": [
    "# Sites Recommendation (Yelp dataset)"
   ]
  },
  {
   "cell_type": "markdown",
   "metadata": {},
   "source": [
    "\n",
    "* [Introduction](#introduction)\n",
    "* [Data](#data)\n",
    "* [Preprocessing Data](#preprocessing-data) \n",
    "    * [Get Dummies from attributes](#get-dummies) \n",
    "* [Content Based Filtering Model](#content-based)\n",
    "    * [K-nearest neighbours](#knn)       \n",
    "* [Collaboritive Filtering - Model](#collaboritive)\n",
    "    * [SVD - Singular Value Decomposition](#svd)  \n",
    "        - [Building a Utility Matrix](#u-matrix)\n",
    "        - [Transposing the Matrix](#transpose-matrix)\n",
    "        - [Decomposing the Matrix](#decompose-matrix)\n",
    "        - [Generating a correlation Matrix](#gen-corr-matrix)  \n",
    "        - [Isolating the most popular restaurant from the Correlation Matrix](#isolate)\n",
    "        - [Recommend highly correlated Restaurants](#recommend)                   \n",
    "    * [Neural Network - keras](#NN-keras)    \n",
    "        - [Prediction](#prediction)\n",
    "        - [Cosine similarity](#cos-similarity)\n",
    "        - [Recommendation](#recommendation)"
   ]
  },
  {
   "cell_type": "markdown",
   "metadata": {},
   "source": [
    "<a id=\"introduction\"></a>\n",
    "# Introduction\n",
    "\n",
    "In this notebook, we are building a recommender system using Yelp Dataset. In order to build this system, we had two main approaches which are Content-Based Filtering and Collaborative Filtering. \n",
    "\n",
    "> * **Content-Based Filtering:** It is based on the features of the restaurants rather than the user features. The idea is if the user likes a restaurant then he/she will like the other similar restaurants.\n",
    ">  \n",
    "> * **Collaborative Filtering:** It is based on the assumption that people like restaurants similar to other restaurants they like, and restaurants that are liked by other people with similar tastes."
   ]
  },
  {
   "cell_type": "code",
   "execution_count": 2,
   "metadata": {
    "_cell_guid": "b1076dfc-b9ad-4769-8c92-a6c4dae69d19",
    "_uuid": "8f2839f25d086af736a60e9eeb907d3b93b6e0e5",
    "scrolled": true
   },
   "outputs": [],
   "source": [
    "# This Python 3 environment comes with many helpful analytics libraries installed\n",
    "# It is defined by the kaggle/python Docker image: https://github.com/kaggle/docker-python\n",
    "# For example, here's several helpful packages to load\n",
    "import matplotlib.pyplot as plt\n",
    "import seaborn as sns\n",
    "import numpy as np # linear algebra\n",
    "import pandas as pd # data processing, CSV file I/O (e.g. pd.read_csv)\n",
    "\n",
    "\n",
    "# Input data files are available in the read-only \"../input/\" directory\n",
    "# For example, running this (by clicking run or pressing Shift+Enter) will list all files under the input directory\n",
    "\n",
    "import os\n",
    "# for dirname, _, filenames in os.walk('/kaggle/input'):\n",
    "# for dirname, _, filenames in os.walk('C:/Users/sam79/OneDrive/桌面/W210 Yelp/data'):\n",
    "    \n",
    "#     for filename in filenames:\n",
    "#         print(os.path.join(dirname, filename))\n",
    "\n",
    "# You can write up to 5GB to the current directory (/kaggle/working/) that gets preserved as output when you create a version using \"Save & Run All\" \n",
    "\n",
    "# You can also write temporary files to /kaggle/temp/, but they won't be saved outside of the current session"
   ]
  },
  {
   "cell_type": "markdown",
   "metadata": {},
   "source": [
    "<a id=\"data\"></a>\n",
    "# Data\n",
    "\n",
    "We are using subsets of each table since we have a large dataset to work with. For this notebook, we used _business_ and _review_ tables."
   ]
  },
  {
   "cell_type": "code",
   "execution_count": 3,
   "metadata": {},
   "outputs": [],
   "source": [
    "# import the data (chunksize returns jsonReader for iteration)\n",
    "# businesses = pd.read_json(\"/kaggle/input/yelp-dataset/yelp_academic_dataset_business.json\", lines=True, orient='columns', chunksize=1000000)\n",
    "# reviews = pd.read_json(\"/kaggle/input/yelp-dataset/yelp_academic_dataset_review.json\", lines=True, orient='columns', chunksize=1000000)"
   ]
  },
  {
   "cell_type": "code",
   "execution_count": 4,
   "metadata": {
    "_cell_guid": "79c7e3d0-c299-4dcb-8224-4455121ee9b0",
    "_uuid": "d629ff2d2480ee46fbb7e2d37f6b5fab8052498a"
   },
   "outputs": [],
   "source": [
    "# import the data (chunksize returns jsonReader for iteration)\n",
    "non_food_reviews = pd.read_csv(\"./yelp_dataset/non_food_merged.csv\")\n",
    "# businesses = pd.read_json(\"./yelp_dataset/smaller/yelp_academic_dataset_business.json\", lines=True, orient='columns', chunksize=1000000)\n",
    "businesses = pd.read_json(\"./yelp_dataset/yelp_academic_dataset_business.json\", lines=True, orient='columns', chunksize=1000000)\n",
    "# reviews = pd.read_json(\"./yelp_dataset/smaller//yelp_academic_dataset_review.json\", lines=True, orient='columns', chunksize=1000000) # 1000000 Total is 8.2 M reviews\n",
    "reviews = pd.read_json(\"./yelp_dataset/yelp_academic_dataset_review.json\", lines=True, orient='columns', chunksize=1000000) # 1000000 Total is 8.2 M reviews\n",
    "\n",
    "# users = pd.read_json(\"./data/yelp_academic_dataset_user.json\", lines=True, orient='columns', chunksize=10000000)"
   ]
  },
  {
   "cell_type": "code",
   "execution_count": 5,
   "metadata": {},
   "outputs": [],
   "source": [
    "# read the data \n",
    "for business in businesses:\n",
    "    subset_business = business\n",
    "    break\n",
    "    \n",
    "for review in reviews:\n",
    "    subset_review = review\n",
    "    break\n",
    "\n",
    "# for user in users:\n",
    "#     subset_user = user\n",
    "#     break\n",
    "\n",
    "subset_non_food_reviews = non_food_reviews\n"
   ]
  },
  {
   "cell_type": "code",
   "execution_count": null,
   "metadata": {},
   "outputs": [],
   "source": [
    "# peak the tables\n",
    "display(subset_business.head(2))\n",
    "display(subset_review.head(2))\n",
    "display(subset_non_food_reviews.head(2))\n"
   ]
  },
  {
   "cell_type": "code",
   "execution_count": null,
   "metadata": {},
   "outputs": [],
   "source": [
    "subset_business.columns"
   ]
  },
  {
   "cell_type": "code",
   "execution_count": null,
   "metadata": {},
   "outputs": [],
   "source": [
    "subset_review.columns"
   ]
  },
  {
   "cell_type": "code",
   "execution_count": null,
   "metadata": {},
   "outputs": [],
   "source": [
    "subset_non_food_reviews.columns"
   ]
  },
  {
   "cell_type": "code",
   "execution_count": null,
   "metadata": {},
   "outputs": [],
   "source": [
    "print(subset_business.shape)\n",
    "print(subset_review.shape)\n",
    "# print(subset_user.shape)"
   ]
  },
  {
   "cell_type": "code",
   "execution_count": null,
   "metadata": {},
   "outputs": [],
   "source": [
    "x=subset_business['stars'].value_counts()\n",
    "x=x.sort_index()\n",
    "#plot\n",
    "plt.figure(figsize=(8,4))\n",
    "ax= sns.barplot(x.index, x.values, alpha=0.8)\n",
    "plt.title(\"Star Rating Distribution\")\n",
    "plt.ylabel('# of businesses', fontsize=12)\n",
    "plt.xlabel('Star Ratings ', fontsize=12)"
   ]
  },
  {
   "cell_type": "code",
   "execution_count": null,
   "metadata": {},
   "outputs": [],
   "source": [
    "business_cats = ''.join(subset_business['categories'].astype('str'))\n",
    "\n",
    "cats=pd.DataFrame(business_cats.split(','),columns=['categories'])\n",
    "\n",
    "#prep for chart\n",
    "x=cats.categories.value_counts()\n",
    "\n",
    "x=x.sort_values(ascending=False)\n",
    "x=x.iloc[0:20]\n",
    "\n",
    "#chart\n",
    "plt.figure(figsize=(16,4))\n",
    "ax = sns.barplot(x.index, x.values, alpha=0.8)#,color=color[5])\n",
    "plt.title(\"What are the top categories?\",fontsize=25)\n",
    "locs, labels = plt.xticks()\n",
    "plt.setp(labels, rotation=80)\n",
    "plt.ylabel('# businesses', fontsize=12)\n",
    "plt.xlabel('Category', fontsize=12)\n",
    "\n",
    "#adding the text labels\n",
    "# rects = ax.patches\n",
    "# labels = x.values\n",
    "# for rect, label in zip(rects, labels):\n",
    "#     height = rect.get_height()\n",
    "#     ax.text(rect.get_x() + rect.get_width()/2, height + 5, label, ha='center', va='bottom')\n",
    "\n",
    "plt.show()"
   ]
  },
  {
   "cell_type": "code",
   "execution_count": null,
   "metadata": {},
   "outputs": [],
   "source": [
    "#Get the distribution of the ratings\n",
    "x=subset_business['city'].value_counts()\n",
    "x=x.sort_values(ascending=False)\n",
    "x=x.iloc[0:20]\n",
    "plt.figure(figsize=(16,4))\n",
    "ax = sns.barplot(x.index, x.values, alpha=0.8)\n",
    "plt.title(\"Which city has the most reviews?\")\n",
    "locs, labels = plt.xticks()\n",
    "plt.setp(labels, rotation=45)\n",
    "plt.ylabel('# businesses', fontsize=12)\n",
    "plt.xlabel('City', fontsize=12)"
   ]
  },
  {
   "cell_type": "code",
   "execution_count": null,
   "metadata": {},
   "outputs": [],
   "source": [
    "# No New York, Maybe in other Naming convention ?\n",
    "subset_business[(subset_business['city'].str.contains('New'))]['city'].value_counts()"
   ]
  },
  {
   "cell_type": "code",
   "execution_count": null,
   "metadata": {},
   "outputs": [],
   "source": [
    "# No San Diego and San Francisco, Maybe in other Naming convention ?\n",
    "subset_business[(subset_business['city'].str.contains('San'))]['city'].value_counts()"
   ]
  },
  {
   "cell_type": "code",
   "execution_count": null,
   "metadata": {},
   "outputs": [],
   "source": [
    "# No Paris, Maybe in other Naming convention ?\n",
    "subset_business[(subset_business['city'].str.contains('Paris'))]['city'].value_counts()"
   ]
  },
  {
   "cell_type": "code",
   "execution_count": null,
   "metadata": {},
   "outputs": [],
   "source": [
    "subset_business['city'].value_counts().sort_values(ascending=False)"
   ]
  },
  {
   "cell_type": "markdown",
   "metadata": {},
   "source": [
    "### Non-food Sites"
   ]
  },
  {
   "cell_type": "code",
   "execution_count": null,
   "metadata": {},
   "outputs": [],
   "source": [
    "# Select locations which are categorized as Shopping, Nightlife, Home Services, Health & Medical, Local Services, Beauty & Spas, Event Planning & Services, Automotive, Active Life, Home & Garden, Fashion\n",
    "Non_food = subset_business[(subset_business['categories'].str.contains('Shopping')) | (subset_business['categories'].str.contains('Nightlife')) | (subset_business['categories'].str.contains('Home Services'))| (subset_business['categories'].str.contains('Health & Medical'))| (subset_business['categories'].str.contains('Local Services'))| (subset_business['categories'].str.contains('Beauty & Spas'))| (subset_business['categories'].str.contains('Event Planning & Services'))| (subset_business['categories'].str.contains('Automotive'))| (subset_business['categories'].str.contains('Active Life'))| (subset_business['categories'].str.contains('Home & Garden'))| (subset_business['categories'].str.contains('Fashion'))]\n",
    "Non_food = Non_food[(subset_business['is_open'] == 1)]\n",
    "print(Non_food.shape)\n",
    "Non_food.head()"
   ]
  },
  {
   "cell_type": "code",
   "execution_count": null,
   "metadata": {},
   "outputs": [],
   "source": [
    "#prep for chart\n",
    "Non_food_cats = ''.join(Non_food['categories'].astype('str'))\n",
    "\n",
    "cats=pd.DataFrame(Non_food_cats.split(','),columns=['categories'])\n",
    "\n",
    "x=cats.categories.value_counts()\n",
    "x = x.drop([' Restaurants',' Food'])\n",
    "\n",
    "x=x.sort_values(ascending=False)\n",
    "x=x.iloc[0:20]\n",
    "\n",
    "#chart\n",
    "plt.figure(figsize=(16,4))\n",
    "ax = sns.barplot(x.index, x.values, alpha=0.8)#,color=color[5])\n",
    "plt.title(\"What are the Top Non-food Categories?\",fontsize=25)\n",
    "locs, labels = plt.xticks()\n",
    "plt.setp(labels, rotation=80)\n",
    "plt.ylabel('# businesses', fontsize=12)\n",
    "plt.xlabel('Category', fontsize=12)"
   ]
  },
  {
   "cell_type": "code",
   "execution_count": null,
   "metadata": {},
   "outputs": [],
   "source": [
    "print('Shopping Locations:')\n",
    "display(Non_food[(Non_food['categories'].str.contains('Shopping'))].head())\n",
    "print('Home Services Locations:')\n",
    "display(Non_food[(Non_food['categories'].str.contains('Home Services'))].head())\n",
    "print('Health & Medical Locations:')\n",
    "display(Non_food[(Non_food['categories'].str.contains('Health & Medical'))].head())"
   ]
  },
  {
   "cell_type": "markdown",
   "metadata": {},
   "source": [
    "<a id=\"preprocessing-data\"></a>\n",
    "# Preprocessing the Data\n",
    "\n",
    "We chose Philadelphia since it has the highest number of restraunts. The restaurant is the most popular category among businesses. "
   ]
  },
  {
   "cell_type": "code",
   "execution_count": null,
   "metadata": {},
   "outputs": [],
   "source": [
    "# Businesses in Philadelphia and currently open business\n",
    "city = subset_business[(subset_business['city'].str.contains('Philadelphia')) & (subset_business['is_open'] == 1)]\n",
    "Philadelphia = city[['business_id','name','address', 'categories', 'attributes','stars']]\n",
    "Philadelphia"
   ]
  },
  {
   "cell_type": "code",
   "execution_count": null,
   "metadata": {},
   "outputs": [],
   "source": [
    "# getting just restaurants from Philadelphia business\n",
    "rest = Philadelphia[Philadelphia['categories'].str.contains('Restaurant.*')==True].reset_index()\n",
    "rest"
   ]
  },
  {
   "cell_type": "markdown",
   "metadata": {},
   "source": [
    "<a id=\"get-dummies\"></a>\n",
    "* ** Get Dummies from attributes and categories columns**\n",
    "\n",
    "> In \"attributes\" column has nested attributes. In order to create a feature table, we need to separate those nested attributes into their own columns. Therefore, the following functions will be used to achieve this goal."
   ]
  },
  {
   "cell_type": "code",
   "execution_count": null,
   "metadata": {},
   "outputs": [],
   "source": [
    "# Function that extract keys from the nested dictionary\n",
    "def extract_keys(attr, key):\n",
    "    if attr == None:\n",
    "        return \"{}\"\n",
    "    if key in attr:\n",
    "        return attr.pop(key)\n",
    "\n",
    "# convert string to dictionary\n",
    "import ast\n",
    "def str_to_dict(attr):\n",
    "    if attr != None:\n",
    "        return ast.literal_eval(attr)\n",
    "    else:\n",
    "        return ast.literal_eval(\"{}\")    "
   ]
  },
  {
   "cell_type": "code",
   "execution_count": null,
   "metadata": {},
   "outputs": [],
   "source": [
    "# get dummies from nested attributes\n",
    "rest['BusinessParking'] = rest.apply(lambda x: str_to_dict(extract_keys(x['attributes'], 'BusinessParking')), axis=1)\n",
    "rest['Ambience'] = rest.apply(lambda x: str_to_dict(extract_keys(x['attributes'], 'Ambience')), axis=1)\n",
    "rest['GoodForMeal'] = rest.apply(lambda x: str_to_dict(extract_keys(x['attributes'], 'GoodForMeal')), axis=1)\n",
    "rest['Dietary'] = rest.apply(lambda x: str_to_dict(extract_keys(x['attributes'], 'Dietary')), axis=1)\n",
    "rest['Music'] = rest.apply(lambda x: str_to_dict(extract_keys(x['attributes'], 'Music')), axis=1)"
   ]
  },
  {
   "cell_type": "code",
   "execution_count": null,
   "metadata": {},
   "outputs": [],
   "source": [
    "rest"
   ]
  },
  {
   "cell_type": "code",
   "execution_count": null,
   "metadata": {},
   "outputs": [],
   "source": [
    "# create table with attribute dummies\n",
    "df_attr = pd.concat([rest['attributes'].apply(pd.Series), rest['BusinessParking'].apply(pd.Series),\n",
    "                    rest['Ambience'].apply(pd.Series), rest['GoodForMeal'].apply(pd.Series), \n",
    "                    rest['Dietary'].apply(pd.Series) ], axis=1)\n",
    "df_attr_dummies = pd.get_dummies(df_attr)\n",
    "df_attr_dummies"
   ]
  },
  {
   "cell_type": "code",
   "execution_count": null,
   "metadata": {},
   "outputs": [],
   "source": [
    "rest_attribute = rest['attributes'].apply(pd.Series)\n",
    "rest_attribute"
   ]
  },
  {
   "cell_type": "markdown",
   "metadata": {},
   "source": [
    "Most attributes reflect facilities and service of a restaurant"
   ]
  },
  {
   "cell_type": "code",
   "execution_count": null,
   "metadata": {},
   "outputs": [],
   "source": [
    "rest_business_parking = rest['BusinessParking'].apply(pd.Series)\n",
    "rest_business_parking"
   ]
  },
  {
   "cell_type": "markdown",
   "metadata": {},
   "source": [
    "Business parking features reflect parking related information"
   ]
  },
  {
   "cell_type": "code",
   "execution_count": null,
   "metadata": {},
   "outputs": [],
   "source": [
    "rest_ambience = rest['Ambience'].apply(pd.Series)\n",
    "rest_ambience"
   ]
  },
  {
   "cell_type": "markdown",
   "metadata": {},
   "source": [
    "Ambience features reflect the atmosphere of a restaurant"
   ]
  },
  {
   "cell_type": "code",
   "execution_count": null,
   "metadata": {},
   "outputs": [],
   "source": [
    "rest_goodformeal = rest['GoodForMeal'].apply(pd.Series)\n",
    "rest_goodformeal"
   ]
  },
  {
   "cell_type": "markdown",
   "metadata": {},
   "source": [
    "GoodForMeal features reflects the availability of meals in a day"
   ]
  },
  {
   "cell_type": "code",
   "execution_count": null,
   "metadata": {},
   "outputs": [],
   "source": [
    "# get dummies from categories\n",
    "df_categories_dummies = pd.Series(rest['categories']).str.get_dummies(',')\n",
    "df_categories_dummies"
   ]
  },
  {
   "cell_type": "markdown",
   "metadata": {},
   "source": [
    "##### Based on the observation above, we may adopt categories and ambience to be the features and drop attributes, parking, good for meal features"
   ]
  },
  {
   "cell_type": "code",
   "execution_count": null,
   "metadata": {},
   "outputs": [],
   "source": [
    "pd.set_option('display.max_rows', 100)\n",
    "pd.set_option('display.max_columns', 1000)\n",
    "pd.set_option('display.width', 1000)\n",
    "display(df_categories_dummies)"
   ]
  },
  {
   "cell_type": "code",
   "execution_count": null,
   "metadata": {},
   "outputs": [],
   "source": [
    "# pull out names and stars from rest table \n",
    "result = rest[['name','stars']]\n",
    "result"
   ]
  },
  {
   "cell_type": "code",
   "execution_count": null,
   "metadata": {},
   "outputs": [],
   "source": [
    "# Concat all tables and drop Restaurant column\n",
    "df_final = pd.concat([df_attr_dummies, df_categories_dummies, result], axis=1)\n",
    "df_final.drop('Restaurants',inplace=True,axis=1)"
   ]
  },
  {
   "cell_type": "code",
   "execution_count": null,
   "metadata": {},
   "outputs": [],
   "source": [
    "# map floating point stars to an integer\n",
    "mapper = {1.0:1,1.5:2, 2.0:2, 2.5:3, 3.0:3, 3.5:4, 4.0:4, 4.5:5, 5.0:5}\n",
    "df_final['stars'] = df_final['stars'].map(mapper)"
   ]
  },
  {
   "cell_type": "code",
   "execution_count": null,
   "metadata": {},
   "outputs": [],
   "source": [
    "# Final table for the models \n",
    "df_final"
   ]
  },
  {
   "cell_type": "markdown",
   "metadata": {},
   "source": [
    "## Check how many attributes(Tags) in the dataset for restraunts for our recomendation algorithms"
   ]
  },
  {
   "cell_type": "code",
   "execution_count": null,
   "metadata": {},
   "outputs": [],
   "source": [
    "# Check how many attributes(Tags) for restraunts for our recomendation algorithms\n",
    "pd.set_option('display.max_rows', 100)\n",
    "pd.set_option('display.max_columns', 1000)\n",
    "pd.set_option('display.width', 1000)\n",
    "df_final.head()"
   ]
  },
  {
   "cell_type": "code",
   "execution_count": null,
   "metadata": {},
   "outputs": [],
   "source": [
    "# List out all attributes with values\n",
    "df_final.drop(['name','stars'], axis =1).sum(axis=0).sort_values(ascending = False).tail(100)"
   ]
  },
  {
   "cell_type": "markdown",
   "metadata": {},
   "source": [
    "<a id=\"content-based\"></a>\n",
    "# Content Based Filtering- Model\n",
    "\n",
    "build a system that recognizes the similarity between restaurants based on specific features and recommends restaurants that are most similar to a particular restaurant. __df_final__ (features) table used to build this system."
   ]
  },
  {
   "cell_type": "markdown",
   "metadata": {},
   "source": [
    "<a id=\"knn\"></a>\n",
    "## 1. K-Nearest Neighbours model (KNN)\n",
    "> \n",
    ">    - Split the data into train and test set  (80:20)\n",
    ">    - Instantiate and fit the model\n",
    ">    - Test the model: we used the last row as a validation set (we didn't include this last row to train the model)\n",
    ">    - Recommend restaurants for the validation set (the last restaurant in the df_final table)"
   ]
  },
  {
   "cell_type": "code",
   "execution_count": null,
   "metadata": {},
   "outputs": [],
   "source": [
    "# Create X (all the features) and y (target)\n",
    "X = df_final.iloc[:,:-2]\n",
    "y = df_final['stars']"
   ]
  },
  {
   "cell_type": "markdown",
   "metadata": {},
   "source": [
    "* **Split the data into train and test set (80:20)**"
   ]
  },
  {
   "cell_type": "code",
   "execution_count": null,
   "metadata": {},
   "outputs": [],
   "source": [
    "# Split the data into train and test sets\n",
    "from sklearn.model_selection import train_test_split\n",
    "X_train_knn, X_test_knn, y_train_knn, y_test_knn = train_test_split(X, y, test_size=0.2, random_state=1)"
   ]
  },
  {
   "cell_type": "markdown",
   "metadata": {},
   "source": [
    "* **Instantiate and fit the model**"
   ]
  },
  {
   "cell_type": "code",
   "execution_count": null,
   "metadata": {},
   "outputs": [],
   "source": [
    "y_train_knn.head()"
   ]
  },
  {
   "cell_type": "code",
   "execution_count": null,
   "metadata": {},
   "outputs": [],
   "source": [
    "from sklearn.neighbors import KNeighborsClassifier\n",
    "from sklearn.metrics import accuracy_score\n",
    "\n",
    "knn = KNeighborsClassifier(n_neighbors=20)\n",
    "knn.fit(X_train_knn, y_train_knn)\n",
    "\n",
    "#y_pred = knn.predict(X_test)\n",
    "\n",
    "accuracy_train = knn.score(X_train_knn, y_train_knn)\n",
    "accuracy_test = knn.score(X_test_knn, y_test_knn)\n",
    "\n",
    "print(f\"Score on training set: {accuracy_train}\")\n",
    "print(f\"Score on test set: {accuracy_test}\")"
   ]
  },
  {
   "cell_type": "markdown",
   "metadata": {},
   "source": [
    "The restaurant of the validation set"
   ]
  },
  {
   "cell_type": "code",
   "execution_count": null,
   "metadata": {},
   "outputs": [],
   "source": [
    "# look at the last row for the test\n",
    "display(df_final.iloc[-1:])\n",
    "\n",
    "# look at the restaurant name from the last row.\n",
    "print(\"Validation set (Restaurant name): \", df_final['name'].values[-1])"
   ]
  },
  {
   "cell_type": "markdown",
   "metadata": {},
   "source": [
    "* **Test the model:** \n",
    "\n",
    "> We used the last row as a validation set (we didn't include this last row for modeling). "
   ]
  },
  {
   "cell_type": "code",
   "execution_count": null,
   "metadata": {},
   "outputs": [],
   "source": [
    "# test set from the df_final table (only last row): Restaurant name: \"Steak & Cheese & Quick Pita Restaurant\"\n",
    "test_set = df_final.iloc[-1:,:-2]\n",
    "\n",
    "# validation set from the df_final table (exclude the last row)\n",
    "X_val =  df_final.iloc[:-1,:-2]\n",
    "y_val = df_final['stars'].iloc[:-1]"
   ]
  },
  {
   "cell_type": "code",
   "execution_count": null,
   "metadata": {},
   "outputs": [],
   "source": [
    "# fit model with validation set\n",
    "n_knn = knn.fit(X_val, y_val)"
   ]
  },
  {
   "cell_type": "markdown",
   "metadata": {},
   "source": [
    "After fitting the KNN model to the validation set, we are going to find the distances between the validation set and the other restaurants based on their similar features. "
   ]
  },
  {
   "cell_type": "code",
   "execution_count": null,
   "metadata": {},
   "outputs": [],
   "source": [
    "# distances and indeces from validation set (Steak & Cheese & Quick Pita Restaurant)\n",
    "distances, indeces =  n_knn.kneighbors(test_set)\n",
    "#n_knn.kneighbors(test_set)[1][0]\n",
    "\n",
    "# create table distances and indeces from \"Steak & Cheese & Quick Pita Restaurant\"\n",
    "final_table = pd.DataFrame(n_knn.kneighbors(test_set)[0][0], columns = ['distance'])\n",
    "final_table['index'] = n_knn.kneighbors(test_set)[1][0]\n",
    "final_table.set_index('index')"
   ]
  },
  {
   "cell_type": "markdown",
   "metadata": {},
   "source": [
    "We are creating the following ***result*** table which displays similar restaurants to the validation restrauant by their distances. Based on this recommendation system, the short distance means having more similarity to the validation restrauant."
   ]
  },
  {
   "cell_type": "code",
   "execution_count": null,
   "metadata": {},
   "outputs": [],
   "source": [
    "# get names of the restaurant that similar to the validation restrauant\n",
    "result = final_table.join(df_final,on='index')\n",
    "result[['distance','index','name','stars']].head(5)"
   ]
  },
  {
   "cell_type": "markdown",
   "metadata": {},
   "source": [
    "The problem of the Content-Based Filtering Method is that it doesn't capture any information about users' preferences since it only cares about restaurant features. Next, we will implement the Collaborative Filtering Methods."
   ]
  },
  {
   "attachments": {},
   "cell_type": "markdown",
   "metadata": {},
   "source": [
    "<a id=\"collaboritive\"></a>\n",
    "# User Collaborative Filtering - Model - Restraurants\n",
    "\n",
    "Use the Collaborative Filtering technique to make a recommendation to restaurant users. This algorithm is based on the idea that similar users can have a similar restaurant preference. \n",
    "\n",
    "We are implementing the following machine learning techniques to build a recommender system:\n",
    "1. Singular Value Decomposition model (SVD)\n",
    "2. Neural Network (Keras)"
   ]
  },
  {
   "cell_type": "markdown",
   "metadata": {},
   "source": [
    "<a id=\"svd\"></a>\n",
    "## 1. Singular Value Decomposition model (SVD)"
   ]
  },
  {
   "cell_type": "code",
   "execution_count": 47,
   "metadata": {},
   "outputs": [
    {
     "data": {
      "text/plain": [
       "Index(['review_id', 'user_id', 'business_id', 'stars', 'useful', 'funny',\n",
       "       'cool', 'text', 'date'],\n",
       "      dtype='object')"
      ]
     },
     "execution_count": 47,
     "metadata": {},
     "output_type": "execute_result"
    }
   ],
   "source": [
    "# looking at the columns of subset_review table\n",
    "subset_review.columns"
   ]
  },
  {
   "cell_type": "code",
   "execution_count": 48,
   "metadata": {},
   "outputs": [
    {
     "data": {
      "text/html": [
       "<div>\n",
       "<style scoped>\n",
       "    .dataframe tbody tr th:only-of-type {\n",
       "        vertical-align: middle;\n",
       "    }\n",
       "\n",
       "    .dataframe tbody tr th {\n",
       "        vertical-align: top;\n",
       "    }\n",
       "\n",
       "    .dataframe thead th {\n",
       "        text-align: right;\n",
       "    }\n",
       "</style>\n",
       "<table border=\"1\" class=\"dataframe\">\n",
       "  <thead>\n",
       "    <tr style=\"text-align: right;\">\n",
       "      <th></th>\n",
       "      <th>review_id</th>\n",
       "      <th>user_id</th>\n",
       "      <th>business_id</th>\n",
       "      <th>stars</th>\n",
       "      <th>useful</th>\n",
       "      <th>funny</th>\n",
       "      <th>cool</th>\n",
       "      <th>text</th>\n",
       "      <th>date</th>\n",
       "    </tr>\n",
       "  </thead>\n",
       "  <tbody>\n",
       "    <tr>\n",
       "      <th>0</th>\n",
       "      <td>KU_O5udG6zpxOg-VcAEodg</td>\n",
       "      <td>mh_-eMZ6K5RLWhZyISBhwA</td>\n",
       "      <td>XQfwVwDr-v0ZS3_CbbE5Xw</td>\n",
       "      <td>3</td>\n",
       "      <td>0</td>\n",
       "      <td>0</td>\n",
       "      <td>0</td>\n",
       "      <td>If you decide to eat here, just be aware it is...</td>\n",
       "      <td>2018-07-07 22:09:11</td>\n",
       "    </tr>\n",
       "    <tr>\n",
       "      <th>1</th>\n",
       "      <td>BiTunyQ73aT9WBnpR9DZGw</td>\n",
       "      <td>OyoGAe7OKpv6SyGZT5g77Q</td>\n",
       "      <td>7ATYjTIgM3jUlt4UM3IypQ</td>\n",
       "      <td>5</td>\n",
       "      <td>1</td>\n",
       "      <td>0</td>\n",
       "      <td>1</td>\n",
       "      <td>I've taken a lot of spin classes over the year...</td>\n",
       "      <td>2012-01-03 15:28:18</td>\n",
       "    </tr>\n",
       "    <tr>\n",
       "      <th>2</th>\n",
       "      <td>saUsX_uimxRlCVr67Z4Jig</td>\n",
       "      <td>8g_iMtfSiwikVnbP2etR0A</td>\n",
       "      <td>YjUWPpI6HXG530lwP-fb2A</td>\n",
       "      <td>3</td>\n",
       "      <td>0</td>\n",
       "      <td>0</td>\n",
       "      <td>0</td>\n",
       "      <td>Family diner. Had the buffet. Eclectic assortm...</td>\n",
       "      <td>2014-02-05 20:30:30</td>\n",
       "    </tr>\n",
       "    <tr>\n",
       "      <th>3</th>\n",
       "      <td>AqPFMleE6RsU23_auESxiA</td>\n",
       "      <td>_7bHUi9Uuf5__HHc_Q8guQ</td>\n",
       "      <td>kxX2SOes4o-D3ZQBkiMRfA</td>\n",
       "      <td>5</td>\n",
       "      <td>1</td>\n",
       "      <td>0</td>\n",
       "      <td>1</td>\n",
       "      <td>Wow!  Yummy, different,  delicious.   Our favo...</td>\n",
       "      <td>2015-01-04 00:01:03</td>\n",
       "    </tr>\n",
       "    <tr>\n",
       "      <th>4</th>\n",
       "      <td>Sx8TMOWLNuJBWer-0pcmoA</td>\n",
       "      <td>bcjbaE6dDog4jkNY91ncLQ</td>\n",
       "      <td>e4Vwtrqf-wpJfwesgvdgxQ</td>\n",
       "      <td>4</td>\n",
       "      <td>1</td>\n",
       "      <td>0</td>\n",
       "      <td>1</td>\n",
       "      <td>Cute interior and owner (?) gave us tour of up...</td>\n",
       "      <td>2017-01-14 20:54:15</td>\n",
       "    </tr>\n",
       "  </tbody>\n",
       "</table>\n",
       "</div>"
      ],
      "text/plain": [
       "                review_id                 user_id             business_id  \\\n",
       "0  KU_O5udG6zpxOg-VcAEodg  mh_-eMZ6K5RLWhZyISBhwA  XQfwVwDr-v0ZS3_CbbE5Xw   \n",
       "1  BiTunyQ73aT9WBnpR9DZGw  OyoGAe7OKpv6SyGZT5g77Q  7ATYjTIgM3jUlt4UM3IypQ   \n",
       "2  saUsX_uimxRlCVr67Z4Jig  8g_iMtfSiwikVnbP2etR0A  YjUWPpI6HXG530lwP-fb2A   \n",
       "3  AqPFMleE6RsU23_auESxiA  _7bHUi9Uuf5__HHc_Q8guQ  kxX2SOes4o-D3ZQBkiMRfA   \n",
       "4  Sx8TMOWLNuJBWer-0pcmoA  bcjbaE6dDog4jkNY91ncLQ  e4Vwtrqf-wpJfwesgvdgxQ   \n",
       "\n",
       "   stars  useful  funny  cool  \\\n",
       "0      3       0      0     0   \n",
       "1      5       1      0     1   \n",
       "2      3       0      0     0   \n",
       "3      5       1      0     1   \n",
       "4      4       1      0     1   \n",
       "\n",
       "                                                text                date  \n",
       "0  If you decide to eat here, just be aware it is... 2018-07-07 22:09:11  \n",
       "1  I've taken a lot of spin classes over the year... 2012-01-03 15:28:18  \n",
       "2  Family diner. Had the buffet. Eclectic assortm... 2014-02-05 20:30:30  \n",
       "3  Wow!  Yummy, different,  delicious.   Our favo... 2015-01-04 00:01:03  \n",
       "4  Cute interior and owner (?) gave us tour of up... 2017-01-14 20:54:15  "
      ]
     },
     "execution_count": 48,
     "metadata": {},
     "output_type": "execute_result"
    }
   ],
   "source": [
    "subset_review.head()"
   ]
  },
  {
   "cell_type": "code",
   "execution_count": 49,
   "metadata": {},
   "outputs": [
    {
     "data": {
      "text/html": [
       "<div>\n",
       "<style scoped>\n",
       "    .dataframe tbody tr th:only-of-type {\n",
       "        vertical-align: middle;\n",
       "    }\n",
       "\n",
       "    .dataframe tbody tr th {\n",
       "        vertical-align: top;\n",
       "    }\n",
       "\n",
       "    .dataframe thead th {\n",
       "        text-align: right;\n",
       "    }\n",
       "</style>\n",
       "<table border=\"1\" class=\"dataframe\">\n",
       "  <thead>\n",
       "    <tr style=\"text-align: right;\">\n",
       "      <th></th>\n",
       "      <th>user_id</th>\n",
       "      <th>business_id</th>\n",
       "      <th>stars</th>\n",
       "      <th>date</th>\n",
       "    </tr>\n",
       "  </thead>\n",
       "  <tbody>\n",
       "    <tr>\n",
       "      <th>0</th>\n",
       "      <td>mh_-eMZ6K5RLWhZyISBhwA</td>\n",
       "      <td>XQfwVwDr-v0ZS3_CbbE5Xw</td>\n",
       "      <td>3</td>\n",
       "      <td>2018-07-07 22:09:11</td>\n",
       "    </tr>\n",
       "    <tr>\n",
       "      <th>1</th>\n",
       "      <td>OyoGAe7OKpv6SyGZT5g77Q</td>\n",
       "      <td>7ATYjTIgM3jUlt4UM3IypQ</td>\n",
       "      <td>5</td>\n",
       "      <td>2012-01-03 15:28:18</td>\n",
       "    </tr>\n",
       "    <tr>\n",
       "      <th>2</th>\n",
       "      <td>8g_iMtfSiwikVnbP2etR0A</td>\n",
       "      <td>YjUWPpI6HXG530lwP-fb2A</td>\n",
       "      <td>3</td>\n",
       "      <td>2014-02-05 20:30:30</td>\n",
       "    </tr>\n",
       "    <tr>\n",
       "      <th>3</th>\n",
       "      <td>_7bHUi9Uuf5__HHc_Q8guQ</td>\n",
       "      <td>kxX2SOes4o-D3ZQBkiMRfA</td>\n",
       "      <td>5</td>\n",
       "      <td>2015-01-04 00:01:03</td>\n",
       "    </tr>\n",
       "    <tr>\n",
       "      <th>4</th>\n",
       "      <td>bcjbaE6dDog4jkNY91ncLQ</td>\n",
       "      <td>e4Vwtrqf-wpJfwesgvdgxQ</td>\n",
       "      <td>4</td>\n",
       "      <td>2017-01-14 20:54:15</td>\n",
       "    </tr>\n",
       "    <tr>\n",
       "      <th>...</th>\n",
       "      <td>...</td>\n",
       "      <td>...</td>\n",
       "      <td>...</td>\n",
       "      <td>...</td>\n",
       "    </tr>\n",
       "    <tr>\n",
       "      <th>999995</th>\n",
       "      <td>oX7o1TH0PHUWp9r9ry9_vw</td>\n",
       "      <td>jLn69WQupjsDKrbPw_nlGQ</td>\n",
       "      <td>3</td>\n",
       "      <td>2017-11-15 09:43:07</td>\n",
       "    </tr>\n",
       "    <tr>\n",
       "      <th>999996</th>\n",
       "      <td>v8wlapFKVLs2qTYCGhCdiw</td>\n",
       "      <td>t6v8g8UeNiq3O2GoEc7R4Q</td>\n",
       "      <td>4</td>\n",
       "      <td>2014-09-03 18:27:33</td>\n",
       "    </tr>\n",
       "    <tr>\n",
       "      <th>999997</th>\n",
       "      <td>rLlYc1RzIBnOmnX3AbpEYw</td>\n",
       "      <td>ZYRul0i1bhOjirHED6Kd0w</td>\n",
       "      <td>3</td>\n",
       "      <td>2016-02-20 22:25:29</td>\n",
       "    </tr>\n",
       "    <tr>\n",
       "      <th>999998</th>\n",
       "      <td>eEH-8CEPU5ndPxDGzVfHiQ</td>\n",
       "      <td>onGXKwnxPLtKnO8yqQMPSA</td>\n",
       "      <td>1</td>\n",
       "      <td>2010-06-27 02:17:30</td>\n",
       "    </tr>\n",
       "    <tr>\n",
       "      <th>999999</th>\n",
       "      <td>HYmGwYXvcYmW7dDjuWKJfw</td>\n",
       "      <td>54vEFcAri3Wj6cdM4ljDBA</td>\n",
       "      <td>4</td>\n",
       "      <td>2012-11-05 03:25:02</td>\n",
       "    </tr>\n",
       "  </tbody>\n",
       "</table>\n",
       "<p>1000000 rows × 4 columns</p>\n",
       "</div>"
      ],
      "text/plain": [
       "                       user_id             business_id  stars  \\\n",
       "0       mh_-eMZ6K5RLWhZyISBhwA  XQfwVwDr-v0ZS3_CbbE5Xw      3   \n",
       "1       OyoGAe7OKpv6SyGZT5g77Q  7ATYjTIgM3jUlt4UM3IypQ      5   \n",
       "2       8g_iMtfSiwikVnbP2etR0A  YjUWPpI6HXG530lwP-fb2A      3   \n",
       "3       _7bHUi9Uuf5__HHc_Q8guQ  kxX2SOes4o-D3ZQBkiMRfA      5   \n",
       "4       bcjbaE6dDog4jkNY91ncLQ  e4Vwtrqf-wpJfwesgvdgxQ      4   \n",
       "...                        ...                     ...    ...   \n",
       "999995  oX7o1TH0PHUWp9r9ry9_vw  jLn69WQupjsDKrbPw_nlGQ      3   \n",
       "999996  v8wlapFKVLs2qTYCGhCdiw  t6v8g8UeNiq3O2GoEc7R4Q      4   \n",
       "999997  rLlYc1RzIBnOmnX3AbpEYw  ZYRul0i1bhOjirHED6Kd0w      3   \n",
       "999998  eEH-8CEPU5ndPxDGzVfHiQ  onGXKwnxPLtKnO8yqQMPSA      1   \n",
       "999999  HYmGwYXvcYmW7dDjuWKJfw  54vEFcAri3Wj6cdM4ljDBA      4   \n",
       "\n",
       "                      date  \n",
       "0      2018-07-07 22:09:11  \n",
       "1      2012-01-03 15:28:18  \n",
       "2      2014-02-05 20:30:30  \n",
       "3      2015-01-04 00:01:03  \n",
       "4      2017-01-14 20:54:15  \n",
       "...                    ...  \n",
       "999995 2017-11-15 09:43:07  \n",
       "999996 2014-09-03 18:27:33  \n",
       "999997 2016-02-20 22:25:29  \n",
       "999998 2010-06-27 02:17:30  \n",
       "999999 2012-11-05 03:25:02  \n",
       "\n",
       "[1000000 rows x 4 columns]"
      ]
     },
     "execution_count": 49,
     "metadata": {},
     "output_type": "execute_result"
    }
   ],
   "source": [
    "# pull out needed columns from subset_review table\n",
    "df_review = subset_review[['user_id','business_id','stars', 'date']]\n",
    "df_review"
   ]
  },
  {
   "cell_type": "code",
   "execution_count": 50,
   "metadata": {},
   "outputs": [
    {
     "ename": "NameError",
     "evalue": "name 'rest' is not defined",
     "output_type": "error",
     "traceback": [
      "\u001b[1;31m---------------------------------------------------------------------------\u001b[0m",
      "\u001b[1;31mNameError\u001b[0m                                 Traceback (most recent call last)",
      "Cell \u001b[1;32mIn[50], line 2\u001b[0m\n\u001b[0;32m      1\u001b[0m \u001b[39m# pull out names and addresses of the restaurants from rest table\u001b[39;00m\n\u001b[1;32m----> 2\u001b[0m restaurant \u001b[39m=\u001b[39m rest[[\u001b[39m'\u001b[39m\u001b[39mbusiness_id\u001b[39m\u001b[39m'\u001b[39m, \u001b[39m'\u001b[39m\u001b[39mname\u001b[39m\u001b[39m'\u001b[39m, \u001b[39m'\u001b[39m\u001b[39maddress\u001b[39m\u001b[39m'\u001b[39m]]\n\u001b[0;32m      3\u001b[0m restaurant\n",
      "\u001b[1;31mNameError\u001b[0m: name 'rest' is not defined"
     ]
    }
   ],
   "source": [
    "# pull out names and addresses of the restaurants from rest table\n",
    "restaurant = rest[['business_id', 'name', 'address']]\n",
    "restaurant"
   ]
  },
  {
   "cell_type": "code",
   "execution_count": 51,
   "metadata": {},
   "outputs": [
    {
     "ename": "NameError",
     "evalue": "name 'restaurant' is not defined",
     "output_type": "error",
     "traceback": [
      "\u001b[1;31m---------------------------------------------------------------------------\u001b[0m",
      "\u001b[1;31mNameError\u001b[0m                                 Traceback (most recent call last)",
      "Cell \u001b[1;32mIn[51], line 2\u001b[0m\n\u001b[0;32m      1\u001b[0m \u001b[39m# combine df_review and restaurant table\u001b[39;00m\n\u001b[1;32m----> 2\u001b[0m combined_business_data \u001b[39m=\u001b[39m pd\u001b[39m.\u001b[39mmerge(df_review, restaurant, on\u001b[39m=\u001b[39m\u001b[39m'\u001b[39m\u001b[39mbusiness_id\u001b[39m\u001b[39m'\u001b[39m)\n\u001b[0;32m      3\u001b[0m combined_business_data\n",
      "\u001b[1;31mNameError\u001b[0m: name 'restaurant' is not defined"
     ]
    }
   ],
   "source": [
    "# combine df_review and restaurant table\n",
    "combined_business_data = pd.merge(df_review, restaurant, on='business_id')\n",
    "combined_business_data"
   ]
  },
  {
   "cell_type": "code",
   "execution_count": 52,
   "metadata": {},
   "outputs": [
    {
     "ename": "NameError",
     "evalue": "name 'combined_business_data' is not defined",
     "output_type": "error",
     "traceback": [
      "\u001b[1;31m---------------------------------------------------------------------------\u001b[0m",
      "\u001b[1;31mNameError\u001b[0m                                 Traceback (most recent call last)",
      "Cell \u001b[1;32mIn[52], line 2\u001b[0m\n\u001b[0;32m      1\u001b[0m \u001b[39m# the most POPULAR restaurants by stars.\u001b[39;00m\n\u001b[1;32m----> 2\u001b[0m combined_business_data\u001b[39m.\u001b[39mgroupby(\u001b[39m'\u001b[39m\u001b[39mbusiness_id\u001b[39m\u001b[39m'\u001b[39m)[\u001b[39m'\u001b[39m\u001b[39muser_id\u001b[39m\u001b[39m'\u001b[39m]\u001b[39m.\u001b[39mnunique()\u001b[39m.\u001b[39msort_values(ascending\u001b[39m=\u001b[39m\u001b[39mFalse\u001b[39;00m)\u001b[39m.\u001b[39mhead()\n",
      "\u001b[1;31mNameError\u001b[0m: name 'combined_business_data' is not defined"
     ]
    }
   ],
   "source": [
    "# the most POPULAR restaurants by stars.\n",
    "combined_business_data.groupby('business_id')['user_id'].nunique().sort_values(ascending=False).head()"
   ]
  },
  {
   "cell_type": "code",
   "execution_count": null,
   "metadata": {},
   "outputs": [],
   "source": [
    "# the most active user with most number of reviews\n",
    "combined_business_data.groupby('user_id')['business_id'].nunique().sort_values(ascending=False).head()"
   ]
  },
  {
   "cell_type": "code",
   "execution_count": null,
   "metadata": {},
   "outputs": [],
   "source": [
    "# see the NAME of the most popular restaurant\n",
    "Filter = combined_business_data['business_id'] == 'EtKSTHV5Qx_Q7Aur9o4kQQ'\n",
    "print(\"Name: \", combined_business_data[Filter]['name'].unique())\n",
    "print(\"Address:\", combined_business_data[Filter]['address'].unique())"
   ]
  },
  {
   "cell_type": "markdown",
   "metadata": {},
   "source": [
    "The popular restaurant by ratings is **\"Village Whiskey\"**."
   ]
  },
  {
   "cell_type": "markdown",
   "metadata": {},
   "source": [
    "<a id=\"u-matrix\"></a>\n",
    "* **Building a Utility Matrix (User-Restaurant Matrix)**\n",
    "\n",
    "This matrix contains each user, each restaurant, and the rating each user gave to each restaurant. Notice this matrix will be sparse because every user doesn't review every restaurant."
   ]
  },
  {
   "cell_type": "code",
   "execution_count": null,
   "metadata": {},
   "outputs": [],
   "source": [
    "# create a user-item matrix\n",
    "rating_crosstab = combined_business_data.pivot_table(values='stars', index='user_id', columns='name', fill_value=0)\n",
    "rating_crosstab.head()"
   ]
  },
  {
   "cell_type": "code",
   "execution_count": null,
   "metadata": {},
   "outputs": [],
   "source": [
    "# Perform a random Check on one restaurant and see whether we have ratings in place\n",
    "rating_crosstab[rating_crosstab['1 Stop Pizza']!=0].head()"
   ]
  },
  {
   "cell_type": "markdown",
   "metadata": {},
   "source": [
    "<a id=\"transpose-matrix\"></a>\n",
    "* **Transposing the Matrix**\n",
    "\n",
    "After transpose the matrix, users are represented by columns, and restaurants are represented by rows."
   ]
  },
  {
   "cell_type": "code",
   "execution_count": null,
   "metadata": {},
   "outputs": [],
   "source": [
    "# shape of the Utility matrix (original matrix) \n",
    "rating_crosstab.shape"
   ]
  },
  {
   "cell_type": "code",
   "execution_count": null,
   "metadata": {},
   "outputs": [],
   "source": [
    "# Transpose the Utility matrix\n",
    "X = rating_crosstab.values.T\n",
    "X.shape"
   ]
  },
  {
   "cell_type": "markdown",
   "metadata": {},
   "source": [
    "<a id=\"decompose-matrix\"></a>\n",
    "* **Decomposing the Matrix**\n",
    "\n",
    "Use TruncatedSVD from sklearn to compress the transposed matrix into down to a number of rows by 12 matrices. All of the restaurants are in the rows. But the users will be compressed down to 12 components arbitrarily that represent a generalized view of users' tastes.  "
   ]
  },
  {
   "cell_type": "code",
   "execution_count": null,
   "metadata": {},
   "outputs": [],
   "source": [
    "import sklearn\n",
    "from sklearn.decomposition import TruncatedSVD\n",
    "from sklearn.metrics import accuracy_score\n",
    "\n",
    "\n",
    "SVD = TruncatedSVD(n_components=12, random_state=17)\n",
    "result_matrix = SVD.fit_transform(X)\n",
    "result_matrix.shape"
   ]
  },
  {
   "cell_type": "code",
   "execution_count": null,
   "metadata": {},
   "outputs": [],
   "source": [
    "result_matrix"
   ]
  },
  {
   "cell_type": "markdown",
   "metadata": {},
   "source": [
    "<a id=\"gen-corr-matrix\"></a>\n",
    "* **Generating a Correlation Matrix**\n",
    "\n",
    "We calculated PearsonR coefficient for every restaurant pair in the result_matrix. The correlation-based on similarities between users' tastes. "
   ]
  },
  {
   "cell_type": "code",
   "execution_count": null,
   "metadata": {},
   "outputs": [],
   "source": [
    "# PearsonR coef \n",
    "corr_matrix = np.corrcoef(result_matrix)\n",
    "corr_matrix.shape"
   ]
  },
  {
   "cell_type": "markdown",
   "metadata": {},
   "source": [
    "<a id=\"isolate\"></a>\n",
    "* **Isolating the most popular restaurant from the Correlation Matrix**\n",
    "\n",
    "In our case, the most popular restaurant is \"Village Whiskey\". So we will extract the correlation values between the target restaurant with all other restaurants from corr_matrix."
   ]
  },
  {
   "cell_type": "code",
   "execution_count": null,
   "metadata": {},
   "outputs": [],
   "source": [
    "# get the index of the popular restaurant\n",
    "restaurant_names = rating_crosstab.columns\n",
    "restaurants_list = list(restaurant_names)\n",
    "\n",
    "popular_rest = restaurants_list.index('Village Whiskey')\n",
    "print(\"index of the popular restaurant: \", popular_rest)\n",
    "\n",
    "# restaurant of interest \n",
    "corr_popular_rest = corr_matrix[popular_rest]"
   ]
  },
  {
   "cell_type": "markdown",
   "metadata": {},
   "source": [
    "<a id=\"recommend\"></a>\n",
    "* **Recommend Highly Correlated Restaurants**\n",
    "\n",
    "Now we will filter out the most correlated restaurant to \"Village Whiskey\" by applying the following conditions as shown below."
   ]
  },
  {
   "cell_type": "code",
   "execution_count": null,
   "metadata": {},
   "outputs": [],
   "source": [
    "list(restaurant_names[(corr_popular_rest < 1.0) & (corr_popular_rest > 0.9)])"
   ]
  },
  {
   "cell_type": "code",
   "execution_count": null,
   "metadata": {},
   "outputs": [],
   "source": [
    "display(rest[rest['name'] == 'Village Whiskey'])\n",
    "display(rest[rest['name'] == 'Guavaberry Foods & Drinks '])\n",
    "display(rest[rest['name'] == 'Halal Food Special'])\n",
    "display(rest[rest['name'] == 'Prince Pizza II'])"
   ]
  },
  {
   "attachments": {},
   "cell_type": "markdown",
   "metadata": {},
   "source": [
    "<a id=\"NN-keras\"></a>\n",
    "## Model Performance Validation - Restaurants"
   ]
  },
  {
   "cell_type": "markdown",
   "metadata": {},
   "source": [
    "<a id=\"recommend\"></a>\n",
    "* **User Story Simulation**"
   ]
  },
  {
   "cell_type": "code",
   "execution_count": null,
   "metadata": {
    "scrolled": true
   },
   "outputs": [],
   "source": [
    "# the most active user with most number of reviews\n",
    "combined_business_data.groupby('user_id')['business_id'].nunique().sort_values(ascending=False).head()\n"
   ]
  },
  {
   "cell_type": "code",
   "execution_count": null,
   "metadata": {},
   "outputs": [],
   "source": [
    "# Select a user with several reviews\n",
    "target_user = '0DB3Irpf_ETVXu_Ou9vPow'\n",
    "combined_business_data[combined_business_data['user_id']==target_user].groupby('user_id')['business_id'].nunique()"
   ]
  },
  {
   "cell_type": "code",
   "execution_count": null,
   "metadata": {},
   "outputs": [],
   "source": [
    "# Check the reviews from target user\n",
    "combined_business_data[combined_business_data['user_id']==target_user].head()"
   ]
  },
  {
   "cell_type": "code",
   "execution_count": null,
   "metadata": {},
   "outputs": [],
   "source": [
    "# Check the reviews from target user\n",
    "rest_reviews = combined_business_data[combined_business_data['user_id']==target_user]['name'].unique()\n",
    "rest_reviews_index = []\n",
    "for k in rest_reviews:    \n",
    "    rest_reviews_index.append(restaurants_list.index(k))\n",
    "print('Number of sites with reviews from target user:',len(rest_reviews))"
   ]
  },
  {
   "cell_type": "code",
   "execution_count": null,
   "metadata": {},
   "outputs": [],
   "source": [
    "# Business with reviews from the target user\n",
    "combined_business_data[(combined_business_data['user_id']==target_user) & (combined_business_data['stars']==5)]['name'].unique()\n",
    "rating_sites = combined_business_data[combined_business_data['user_id']==target_user].groupby('name').mean().sort_values(by='stars',ascending=False)\n",
    "rating_sites['site_name'] = rating_sites.index\n",
    "display(rating_sites.head())\n",
    "display(rating_sites.tail())"
   ]
  },
  {
   "cell_type": "code",
   "execution_count": null,
   "metadata": {},
   "outputs": [],
   "source": [
    "# rating_sites.index\n",
    "subset_business.shape"
   ]
  },
  {
   "cell_type": "code",
   "execution_count": null,
   "metadata": {},
   "outputs": [],
   "source": [
    "rating_sites['site_name'].index"
   ]
  },
  {
   "cell_type": "code",
   "execution_count": null,
   "metadata": {},
   "outputs": [],
   "source": [
    "subset_business[subset_business['name'].isin(rating_sites['site_name'])]['city'].value_counts()"
   ]
  },
  {
   "cell_type": "code",
   "execution_count": null,
   "metadata": {},
   "outputs": [],
   "source": [
    "subset_business[subset_business['name'].isin(['target','st honore pastries'])].head()"
   ]
  },
  {
   "cell_type": "code",
   "execution_count": null,
   "metadata": {},
   "outputs": [],
   "source": [
    "subset_business.head()"
   ]
  },
  {
   "cell_type": "code",
   "execution_count": null,
   "metadata": {},
   "outputs": [],
   "source": [
    "subset_business['name'].head()"
   ]
  },
  {
   "cell_type": "code",
   "execution_count": null,
   "metadata": {},
   "outputs": [],
   "source": [
    "# get the index of the popular restaurant\n",
    "target_rest = restaurants_list.index(rating_sites.index[0])\n",
    "print('High rating restaurant:',rating_sites.index[0])\n",
    "print(\"index of the high rating restaurant: \", target_rest)\n",
    "\n",
    "# restaurant of interest \n",
    "corr_target_rest = corr_matrix[target_rest]"
   ]
  },
  {
   "cell_type": "code",
   "execution_count": null,
   "metadata": {},
   "outputs": [],
   "source": [
    "# Sites with the highest rec_score\n",
    "Rec_Score = corr_target_rest[rest_reviews_index]\n",
    "Rec_result = pd.DataFrame({\"name\":rest_reviews,\"rec_score\":Rec_Score}).sort_values(by='rec_score',ascending=False)\n",
    "Rec_result.head()"
   ]
  },
  {
   "cell_type": "code",
   "execution_count": null,
   "metadata": {},
   "outputs": [],
   "source": [
    "# Summarize the result of \n",
    "rec_summary = pd.merge(rating_sites,Rec_result, left_on='site_name', right_on='name').reindex(columns=['name', 'site_name', 'stars','rec_score'])\n",
    "rec_summary = rec_summary.drop('name',axis=1)\n",
    "rec_summary = rec_summary.drop(0)\n",
    "rec_summary['avg_star'] = rec_summary['stars'].mean()\n",
    "rec_summary['rank'] = rec_summary['rec_score'].rank(ascending=False)\n",
    "top5_rec = rec_summary.sort_values(by='rec_score',ascending=False)\n",
    "top5_rec[0:5]"
   ]
  },
  {
   "cell_type": "code",
   "execution_count": null,
   "metadata": {},
   "outputs": [],
   "source": [
    "review_rec_corr = rec_summary['stars'].corr(rec_summary['rec_score'])\n",
    "print('Correlation coefficient between actual rating and recommendation:',review_rec_corr)"
   ]
  },
  {
   "cell_type": "code",
   "execution_count": null,
   "metadata": {},
   "outputs": [],
   "source": [
    "top5_rec['stars'].mean()"
   ]
  },
  {
   "cell_type": "code",
   "execution_count": null,
   "metadata": {},
   "outputs": [],
   "source": [
    "import matplotlib.pyplot as plt\n",
    "\n",
    "# create scatter plot\n",
    "plt.scatter(rec_summary['rec_score'],rec_summary['stars'])\n",
    "\n",
    "# set plot title and labels\n",
    "plt.title('Scatter Plot')\n",
    "plt.xlabel('rec_score')\n",
    "plt.ylabel('stars')\n",
    "\n",
    "# show the plot\n",
    "plt.show()"
   ]
  },
  {
   "cell_type": "code",
   "execution_count": null,
   "metadata": {},
   "outputs": [],
   "source": [
    "# plt.figure(figsize=(20, 8))\n",
    "# plt.title(\"Number Of Contribution By Receipt Amount\", fontsize=24)\n",
    "# plt.xlabel(\"Receipt Amount\", fontsize=14)\n",
    "# plt.ylabel(\"Number Of Contribution\", fontsize=14)\n",
    "# plt.tick_params(axis='both', labelsize=12, color='darkblue')\n",
    "# # plt.xticks(bin_range)\n",
    "\n",
    "# plt.hist(rec_summary['rec_score'], facecolor='darkblue')"
   ]
  },
  {
   "attachments": {},
   "cell_type": "markdown",
   "metadata": {},
   "source": [
    "# User Collaborative for Non_food"
   ]
  },
  {
   "cell_type": "code",
   "execution_count": 6,
   "metadata": {},
   "outputs": [
    {
     "data": {
      "text/plain": [
       "(99695, 27)"
      ]
     },
     "execution_count": 6,
     "metadata": {},
     "output_type": "execute_result"
    }
   ],
   "source": [
    "# Select the origin andd destination city\n",
    "my_city = \"Brentwood\".lower()\n",
    "dest_city = \"Philadelphia\".lower()\n",
    "target_user = '0DB3Irpf_ETVXu_Ou9vPow'\n",
    "target_business_name = 'famous footwear'\n",
    "subset_non_food_reviews[\"name\"] = subset_non_food_reviews[\"name\"].str.lower()\n",
    "subset_non_food_reviews[\"city\"] = subset_non_food_reviews[\"city\"].str.lower()\n",
    "subset_non_food_reviews_orgin = subset_non_food_reviews[subset_non_food_reviews[\"city\"]==my_city]\n",
    "subset_non_food_reviews_dest = subset_non_food_reviews[(subset_non_food_reviews[\"city\"]==dest_city) | (subset_non_food_reviews[\"city\"]==my_city)]\n",
    "subset_non_food_reviews_dest.shape"
   ]
  },
  {
   "cell_type": "code",
   "execution_count": 7,
   "metadata": {},
   "outputs": [],
   "source": [
    "# see the NAME of the most popular restaurant\n",
    "# non_food_Filter = subset_non_food_reviews_dest['business_id'] == target_business_id\n",
    "# print(\"Name: \", subset_non_food_reviews_dest[non_food_Filter]['name'].unique())\n",
    "# print(\"Address:\", subset_non_food_reviews_dest[non_food_Filter]['address'].unique())"
   ]
  },
  {
   "cell_type": "code",
   "execution_count": 8,
   "metadata": {},
   "outputs": [
    {
     "data": {
      "text/plain": [
       "(58534, 2822)"
      ]
     },
     "execution_count": 8,
     "metadata": {},
     "output_type": "execute_result"
    }
   ],
   "source": [
    "# create a user-item matrix\n",
    "rating_crosstab = subset_non_food_reviews_dest.pivot_table(values='stars_y', index='user_id', columns='name', fill_value=0)\n",
    "rating_crosstab.head()\n",
    "\n",
    "# shape of the Utility matrix (original matrix) \n",
    "rating_crosstab.shape\n",
    "\n"
   ]
  },
  {
   "cell_type": "code",
   "execution_count": 9,
   "metadata": {},
   "outputs": [
    {
     "data": {
      "text/plain": [
       "(2822, 58534)"
      ]
     },
     "execution_count": 9,
     "metadata": {},
     "output_type": "execute_result"
    }
   ],
   "source": [
    "# Transpose the Utility matrix\n",
    "X = rating_crosstab.values.T\n",
    "X.shape"
   ]
  },
  {
   "cell_type": "code",
   "execution_count": 10,
   "metadata": {},
   "outputs": [
    {
     "data": {
      "text/plain": [
       "(2822, 12)"
      ]
     },
     "execution_count": 10,
     "metadata": {},
     "output_type": "execute_result"
    }
   ],
   "source": [
    "# Decomposing the matrix\n",
    "import sklearn\n",
    "from sklearn.decomposition import TruncatedSVD\n",
    "from sklearn.metrics import accuracy_score\n",
    "\n",
    "\n",
    "SVD = TruncatedSVD(n_components=12, random_state=17)\n",
    "result_matrix = SVD.fit_transform(X)\n",
    "result_matrix.shape\n"
   ]
  },
  {
   "cell_type": "code",
   "execution_count": 11,
   "metadata": {},
   "outputs": [
    {
     "data": {
      "text/plain": [
       "(2822, 2822)"
      ]
     },
     "execution_count": 11,
     "metadata": {},
     "output_type": "execute_result"
    }
   ],
   "source": [
    "# PearsonR coef, generating a correlation matrix\n",
    "corr_matrix = np.corrcoef(result_matrix)\n",
    "corr_matrix.shape"
   ]
  },
  {
   "cell_type": "code",
   "execution_count": 12,
   "metadata": {},
   "outputs": [
    {
     "name": "stdout",
     "output_type": "stream",
     "text": [
      "index of the target location:  801\n"
     ]
    },
    {
     "data": {
      "text/plain": [
       "['18th century garden',\n",
       " 'alaska airlines',\n",
       " 'cole haan',\n",
       " 'el nuevo estilo',\n",
       " 'he his exclusively',\n",
       " 'j&t nail salon',\n",
       " \"lily's nail salon\",\n",
       " \"macy's\",\n",
       " \"penn's landing\",\n",
       " 'philadelphia taxi',\n",
       " 'polo ralph lauren factory store',\n",
       " 'rail park',\n",
       " 'rebecca nail salon',\n",
       " \"red's creative cuts unisex salon\",\n",
       " 'shell gas',\n",
       " 'starr garden playground',\n",
       " 'statewide roadservice',\n",
       " \"the men's club barber shop\",\n",
       " 'tooba fashions']"
      ]
     },
     "execution_count": 12,
     "metadata": {},
     "output_type": "execute_result"
    }
   ],
   "source": [
    "# get the index of the popular restaurant\n",
    "non_food_names = rating_crosstab.columns\n",
    "non_food_list = list(non_food_names)\n",
    "\n",
    "target_location_index = non_food_list.index('famous footwear')\n",
    "print(\"index of the target location: \", target_location_index)\n",
    "\n",
    "corr_target_location = corr_matrix[target_location_index]\n",
    "\n",
    "list(non_food_names[(corr_target_location < 1.0) & (corr_target_location > 0.95)])"
   ]
  },
  {
   "cell_type": "code",
   "execution_count": 13,
   "metadata": {},
   "outputs": [],
   "source": [
    "corr_target_location_tbl = pd.DataFrame({'name':non_food_names,'User_collaborative_Score':corr_target_location})\n"
   ]
  },
  {
   "cell_type": "code",
   "execution_count": null,
   "metadata": {},
   "outputs": [],
   "source": []
  },
  {
   "attachments": {},
   "cell_type": "markdown",
   "metadata": {},
   "source": [
    "# Content-based Collaborative Filtering"
   ]
  },
  {
   "cell_type": "code",
   "execution_count": 14,
   "metadata": {},
   "outputs": [],
   "source": [
    "import gensim\n",
    "# import nltk\n",
    "import pandas as pd\n",
    "\n",
    "from gensim import corpora\n",
    "from gensim.summarization import keywords\n",
    "from nltk.corpus import stopwords\n",
    "from nltk.tokenize import word_tokenize\n",
    "from sklearn.metrics.pairwise import linear_kernel, cosine_similarity\n",
    "from sklearn.feature_extraction.text import CountVectorizer, TfidfVectorizer\n",
    "from textblob import TextBlob\n",
    "\n",
    "from modules import CBR\n",
    "\n",
    "pd.set_option(\"display.width\", None)\n",
    "import warnings\n",
    "\n",
    "warnings.filterwarnings(\"ignore\")\n",
    "pd.options.display.max_columns = None\n"
   ]
  },
  {
   "cell_type": "code",
   "execution_count": 15,
   "metadata": {},
   "outputs": [
    {
     "name": "stdout",
     "output_type": "stream",
     "text": [
      "showing info https://raw.githubusercontent.com/nltk/nltk_data/gh-pages/index.xml\n"
     ]
    },
    {
     "data": {
      "text/plain": [
       "True"
      ]
     },
     "execution_count": 15,
     "metadata": {},
     "output_type": "execute_result"
    }
   ],
   "source": [
    "import nltk\n",
    "import ssl\n",
    "\n",
    "try:\n",
    "    _create_unverified_https_context = ssl._create_unverified_context\n",
    "except AttributeError:\n",
    "    pass\n",
    "else:\n",
    "    ssl._create_default_https_context = _create_unverified_https_context\n",
    "\n",
    "nltk.download()"
   ]
  },
  {
   "cell_type": "code",
   "execution_count": 16,
   "metadata": {},
   "outputs": [
    {
     "name": "stderr",
     "output_type": "stream",
     "text": [
      "[nltk_data] Downloading package omw-1.4 to\n",
      "[nltk_data]     C:\\Users\\sam79\\AppData\\Roaming\\nltk_data...\n",
      "[nltk_data]   Package omw-1.4 is already up-to-date!\n",
      "[nltk_data] Downloading package punkt to\n",
      "[nltk_data]     C:\\Users\\sam79\\AppData\\Roaming\\nltk_data...\n",
      "[nltk_data]   Package punkt is already up-to-date!\n"
     ]
    },
    {
     "data": {
      "text/html": [
       "<div>\n",
       "<style scoped>\n",
       "    .dataframe tbody tr th:only-of-type {\n",
       "        vertical-align: middle;\n",
       "    }\n",
       "\n",
       "    .dataframe tbody tr th {\n",
       "        vertical-align: top;\n",
       "    }\n",
       "\n",
       "    .dataframe thead th {\n",
       "        text-align: right;\n",
       "    }\n",
       "</style>\n",
       "<table border=\"1\" class=\"dataframe\">\n",
       "  <thead>\n",
       "    <tr style=\"text-align: right;\">\n",
       "      <th></th>\n",
       "      <th>Unnamed: 0</th>\n",
       "      <th>business_id</th>\n",
       "      <th>name</th>\n",
       "      <th>address</th>\n",
       "      <th>city</th>\n",
       "      <th>state</th>\n",
       "      <th>postal_code</th>\n",
       "      <th>latitude</th>\n",
       "      <th>longitude</th>\n",
       "      <th>stars_x</th>\n",
       "      <th>review_count</th>\n",
       "      <th>is_open</th>\n",
       "      <th>attributes</th>\n",
       "      <th>categories</th>\n",
       "      <th>hours</th>\n",
       "      <th>BusinessAcceptsCreditCards</th>\n",
       "      <th>WheelchairAccessible</th>\n",
       "      <th>BusinessParking</th>\n",
       "      <th>ByAppointmentOnly</th>\n",
       "      <th>review_id</th>\n",
       "      <th>user_id</th>\n",
       "      <th>stars_y</th>\n",
       "      <th>useful</th>\n",
       "      <th>funny</th>\n",
       "      <th>cool</th>\n",
       "      <th>text</th>\n",
       "      <th>date</th>\n",
       "      <th>sentiment_polarity</th>\n",
       "      <th>sentiment_subjectivity</th>\n",
       "      <th>topic_id</th>\n",
       "      <th>topic_words</th>\n",
       "      <th>keywords</th>\n",
       "    </tr>\n",
       "  </thead>\n",
       "  <tbody>\n",
       "    <tr>\n",
       "      <th>0</th>\n",
       "      <td>0</td>\n",
       "      <td>n_0UpQx1hsNbnPUSlodU8w</td>\n",
       "      <td>famous footwear</td>\n",
       "      <td>8522 Eager Road, Dierbergs Brentwood Point</td>\n",
       "      <td>brentwood</td>\n",
       "      <td>MO</td>\n",
       "      <td>63144</td>\n",
       "      <td>38.627695</td>\n",
       "      <td>-90.340465</td>\n",
       "      <td>2.5</td>\n",
       "      <td>13</td>\n",
       "      <td>1</td>\n",
       "      <td>{'RestaurantsPriceRange2': '2', 'BikeParking':...</td>\n",
       "      <td>Sporting Goods, Fashion, Shoe Stores, Shopping...</td>\n",
       "      <td>{'Monday': '0:0-0:0', 'Tuesday': '10:0-18:0', ...</td>\n",
       "      <td>{}</td>\n",
       "      <td>{}</td>\n",
       "      <td>{'garage': False, 'street': False, 'validated'...</td>\n",
       "      <td>{}</td>\n",
       "      <td>e_PZZ0m2sEG9UovGRxdZRQ</td>\n",
       "      <td>dT6O_rV9DWYS-zHXhA6S6w</td>\n",
       "      <td>4</td>\n",
       "      <td>3</td>\n",
       "      <td>2</td>\n",
       "      <td>2</td>\n",
       "      <td>This has become my go to place for shoes.  I a...</td>\n",
       "      <td>2015-12-06 16:46:43</td>\n",
       "      <td>0.109394</td>\n",
       "      <td>0.519021</td>\n",
       "      <td>1</td>\n",
       "      <td>[like, get, one, store, place, really, I'm, fi...</td>\n",
       "      <td>[become, go, place, shoes, rewards, member, of...</td>\n",
       "    </tr>\n",
       "    <tr>\n",
       "      <th>1</th>\n",
       "      <td>1</td>\n",
       "      <td>n_0UpQx1hsNbnPUSlodU8w</td>\n",
       "      <td>famous footwear</td>\n",
       "      <td>8522 Eager Road, Dierbergs Brentwood Point</td>\n",
       "      <td>brentwood</td>\n",
       "      <td>MO</td>\n",
       "      <td>63144</td>\n",
       "      <td>38.627695</td>\n",
       "      <td>-90.340465</td>\n",
       "      <td>2.5</td>\n",
       "      <td>13</td>\n",
       "      <td>1</td>\n",
       "      <td>{'RestaurantsPriceRange2': '2', 'BikeParking':...</td>\n",
       "      <td>Sporting Goods, Fashion, Shoe Stores, Shopping...</td>\n",
       "      <td>{'Monday': '0:0-0:0', 'Tuesday': '10:0-18:0', ...</td>\n",
       "      <td>{}</td>\n",
       "      <td>{}</td>\n",
       "      <td>{'garage': False, 'street': False, 'validated'...</td>\n",
       "      <td>{}</td>\n",
       "      <td>WNv6UCHTmce7wgImLKP4sg</td>\n",
       "      <td>AAYvaNRQ0TD_2Lpo-wFOUA</td>\n",
       "      <td>4</td>\n",
       "      <td>3</td>\n",
       "      <td>2</td>\n",
       "      <td>1</td>\n",
       "      <td>Oh, I do enjoy Famous Footwear. \\n\\nThe occasi...</td>\n",
       "      <td>2016-03-20 21:52:13</td>\n",
       "      <td>0.109394</td>\n",
       "      <td>0.519021</td>\n",
       "      <td>1</td>\n",
       "      <td>[like, get, one, store, place, really, I'm, fi...</td>\n",
       "      <td>[enjoy, famous, footwear, oh, occasional, bogo...</td>\n",
       "    </tr>\n",
       "    <tr>\n",
       "      <th>2</th>\n",
       "      <td>2</td>\n",
       "      <td>n_0UpQx1hsNbnPUSlodU8w</td>\n",
       "      <td>famous footwear</td>\n",
       "      <td>8522 Eager Road, Dierbergs Brentwood Point</td>\n",
       "      <td>brentwood</td>\n",
       "      <td>MO</td>\n",
       "      <td>63144</td>\n",
       "      <td>38.627695</td>\n",
       "      <td>-90.340465</td>\n",
       "      <td>2.5</td>\n",
       "      <td>13</td>\n",
       "      <td>1</td>\n",
       "      <td>{'RestaurantsPriceRange2': '2', 'BikeParking':...</td>\n",
       "      <td>Sporting Goods, Fashion, Shoe Stores, Shopping...</td>\n",
       "      <td>{'Monday': '0:0-0:0', 'Tuesday': '10:0-18:0', ...</td>\n",
       "      <td>{}</td>\n",
       "      <td>{}</td>\n",
       "      <td>{'garage': False, 'street': False, 'validated'...</td>\n",
       "      <td>{}</td>\n",
       "      <td>VwoJCaULB5cRGnDiYGFYJA</td>\n",
       "      <td>V9fW3-fJ-sEMz_ewPpzXXg</td>\n",
       "      <td>1</td>\n",
       "      <td>2</td>\n",
       "      <td>0</td>\n",
       "      <td>0</td>\n",
       "      <td>Ordered shoes online it clearly says free retu...</td>\n",
       "      <td>2014-10-03 21:42:17</td>\n",
       "      <td>0.109394</td>\n",
       "      <td>0.519021</td>\n",
       "      <td>5</td>\n",
       "      <td>[would, get, back, time, told, said, got, went...</td>\n",
       "      <td>[ordered, shoes, online, clearly, says, free, ...</td>\n",
       "    </tr>\n",
       "    <tr>\n",
       "      <th>3</th>\n",
       "      <td>3</td>\n",
       "      <td>n_0UpQx1hsNbnPUSlodU8w</td>\n",
       "      <td>famous footwear</td>\n",
       "      <td>8522 Eager Road, Dierbergs Brentwood Point</td>\n",
       "      <td>brentwood</td>\n",
       "      <td>MO</td>\n",
       "      <td>63144</td>\n",
       "      <td>38.627695</td>\n",
       "      <td>-90.340465</td>\n",
       "      <td>2.5</td>\n",
       "      <td>13</td>\n",
       "      <td>1</td>\n",
       "      <td>{'RestaurantsPriceRange2': '2', 'BikeParking':...</td>\n",
       "      <td>Sporting Goods, Fashion, Shoe Stores, Shopping...</td>\n",
       "      <td>{'Monday': '0:0-0:0', 'Tuesday': '10:0-18:0', ...</td>\n",
       "      <td>{}</td>\n",
       "      <td>{}</td>\n",
       "      <td>{'garage': False, 'street': False, 'validated'...</td>\n",
       "      <td>{}</td>\n",
       "      <td>crAIe0dciujX2sFvi7bSkA</td>\n",
       "      <td>iSgusF1eKu23mNG87zav4Q</td>\n",
       "      <td>1</td>\n",
       "      <td>0</td>\n",
       "      <td>0</td>\n",
       "      <td>0</td>\n",
       "      <td>Poor customer service will never be shopping a...</td>\n",
       "      <td>2018-08-13 15:40:01</td>\n",
       "      <td>0.109394</td>\n",
       "      <td>0.519021</td>\n",
       "      <td>5</td>\n",
       "      <td>[would, get, back, time, told, said, got, went...</td>\n",
       "      <td>[poor, customer, service, never, shopping, sto...</td>\n",
       "    </tr>\n",
       "    <tr>\n",
       "      <th>4</th>\n",
       "      <td>4</td>\n",
       "      <td>n_0UpQx1hsNbnPUSlodU8w</td>\n",
       "      <td>famous footwear</td>\n",
       "      <td>8522 Eager Road, Dierbergs Brentwood Point</td>\n",
       "      <td>brentwood</td>\n",
       "      <td>MO</td>\n",
       "      <td>63144</td>\n",
       "      <td>38.627695</td>\n",
       "      <td>-90.340465</td>\n",
       "      <td>2.5</td>\n",
       "      <td>13</td>\n",
       "      <td>1</td>\n",
       "      <td>{'RestaurantsPriceRange2': '2', 'BikeParking':...</td>\n",
       "      <td>Sporting Goods, Fashion, Shoe Stores, Shopping...</td>\n",
       "      <td>{'Monday': '0:0-0:0', 'Tuesday': '10:0-18:0', ...</td>\n",
       "      <td>{}</td>\n",
       "      <td>{}</td>\n",
       "      <td>{'garage': False, 'street': False, 'validated'...</td>\n",
       "      <td>{}</td>\n",
       "      <td>DRvrkDpdTOXK4j-Vx9qyDg</td>\n",
       "      <td>XfdP4UU3xMcdJbM3qUIaPA</td>\n",
       "      <td>5</td>\n",
       "      <td>0</td>\n",
       "      <td>0</td>\n",
       "      <td>0</td>\n",
       "      <td>Found a great deal on a pair of Nike running s...</td>\n",
       "      <td>2017-01-25 19:00:25</td>\n",
       "      <td>0.109394</td>\n",
       "      <td>0.519021</td>\n",
       "      <td>1</td>\n",
       "      <td>[like, get, one, store, place, really, I'm, fi...</td>\n",
       "      <td>[found, great, deal, pair, nike, running, shoe...</td>\n",
       "    </tr>\n",
       "    <tr>\n",
       "      <th>...</th>\n",
       "      <td>...</td>\n",
       "      <td>...</td>\n",
       "      <td>...</td>\n",
       "      <td>...</td>\n",
       "      <td>...</td>\n",
       "      <td>...</td>\n",
       "      <td>...</td>\n",
       "      <td>...</td>\n",
       "      <td>...</td>\n",
       "      <td>...</td>\n",
       "      <td>...</td>\n",
       "      <td>...</td>\n",
       "      <td>...</td>\n",
       "      <td>...</td>\n",
       "      <td>...</td>\n",
       "      <td>...</td>\n",
       "      <td>...</td>\n",
       "      <td>...</td>\n",
       "      <td>...</td>\n",
       "      <td>...</td>\n",
       "      <td>...</td>\n",
       "      <td>...</td>\n",
       "      <td>...</td>\n",
       "      <td>...</td>\n",
       "      <td>...</td>\n",
       "      <td>...</td>\n",
       "      <td>...</td>\n",
       "      <td>...</td>\n",
       "      <td>...</td>\n",
       "      <td>...</td>\n",
       "      <td>...</td>\n",
       "      <td>...</td>\n",
       "    </tr>\n",
       "    <tr>\n",
       "      <th>19995</th>\n",
       "      <td>19995</td>\n",
       "      <td>FSiPq3GSzHOch1axV8VCKA</td>\n",
       "      <td>blind dog tavern</td>\n",
       "      <td>50 N Sierra St, Ste 1A</td>\n",
       "      <td>reno</td>\n",
       "      <td>NV</td>\n",
       "      <td>89501</td>\n",
       "      <td>39.525276</td>\n",
       "      <td>-119.813913</td>\n",
       "      <td>4.5</td>\n",
       "      <td>59</td>\n",
       "      <td>1</td>\n",
       "      <td>{'RestaurantsReservations': 'False', 'Restaura...</td>\n",
       "      <td>Nightlife, Bars, Speakeasies, Lounges, Dive Ba...</td>\n",
       "      <td>{'Monday': '15:0-2:0', 'Tuesday': '15:0-2:0', ...</td>\n",
       "      <td>{}</td>\n",
       "      <td>True</td>\n",
       "      <td>{'garage': False, 'street': True, 'validated':...</td>\n",
       "      <td>False</td>\n",
       "      <td>IeIkt1BY9zKi4p3HM-tcJg</td>\n",
       "      <td>TzjQHqlWUcWkQ1zLavRvig</td>\n",
       "      <td>5</td>\n",
       "      <td>0</td>\n",
       "      <td>0</td>\n",
       "      <td>0</td>\n",
       "      <td>Seriously, my new favorite place in Reno. My b...</td>\n",
       "      <td>2019-03-16 03:40:28</td>\n",
       "      <td>0.291484</td>\n",
       "      <td>0.561843</td>\n",
       "      <td>4</td>\n",
       "      <td>[great, place, time, always, recommend, I've, ...</td>\n",
       "      <td>[new, favorite, place, reno, seriously, boyfri...</td>\n",
       "    </tr>\n",
       "    <tr>\n",
       "      <th>19996</th>\n",
       "      <td>19996</td>\n",
       "      <td>FSiPq3GSzHOch1axV8VCKA</td>\n",
       "      <td>blind dog tavern</td>\n",
       "      <td>50 N Sierra St, Ste 1A</td>\n",
       "      <td>reno</td>\n",
       "      <td>NV</td>\n",
       "      <td>89501</td>\n",
       "      <td>39.525276</td>\n",
       "      <td>-119.813913</td>\n",
       "      <td>4.5</td>\n",
       "      <td>59</td>\n",
       "      <td>1</td>\n",
       "      <td>{'RestaurantsReservations': 'False', 'Restaura...</td>\n",
       "      <td>Nightlife, Bars, Speakeasies, Lounges, Dive Ba...</td>\n",
       "      <td>{'Monday': '15:0-2:0', 'Tuesday': '15:0-2:0', ...</td>\n",
       "      <td>{}</td>\n",
       "      <td>True</td>\n",
       "      <td>{'garage': False, 'street': True, 'validated':...</td>\n",
       "      <td>False</td>\n",
       "      <td>MtWNqNHfla_OmCIUc-n9Nw</td>\n",
       "      <td>AUmp265ZW1MRbcm-OPpxYw</td>\n",
       "      <td>5</td>\n",
       "      <td>2</td>\n",
       "      <td>0</td>\n",
       "      <td>2</td>\n",
       "      <td>I've been searching for the best spiked coffee...</td>\n",
       "      <td>2019-02-24 04:58:09</td>\n",
       "      <td>0.291484</td>\n",
       "      <td>0.561843</td>\n",
       "      <td>4</td>\n",
       "      <td>[great, place, time, always, recommend, I've, ...</td>\n",
       "      <td>[searching, best, spiked, coffee, would, guess...</td>\n",
       "    </tr>\n",
       "    <tr>\n",
       "      <th>19997</th>\n",
       "      <td>19997</td>\n",
       "      <td>FSiPq3GSzHOch1axV8VCKA</td>\n",
       "      <td>blind dog tavern</td>\n",
       "      <td>50 N Sierra St, Ste 1A</td>\n",
       "      <td>reno</td>\n",
       "      <td>NV</td>\n",
       "      <td>89501</td>\n",
       "      <td>39.525276</td>\n",
       "      <td>-119.813913</td>\n",
       "      <td>4.5</td>\n",
       "      <td>59</td>\n",
       "      <td>1</td>\n",
       "      <td>{'RestaurantsReservations': 'False', 'Restaura...</td>\n",
       "      <td>Nightlife, Bars, Speakeasies, Lounges, Dive Ba...</td>\n",
       "      <td>{'Monday': '15:0-2:0', 'Tuesday': '15:0-2:0', ...</td>\n",
       "      <td>{}</td>\n",
       "      <td>True</td>\n",
       "      <td>{'garage': False, 'street': True, 'validated':...</td>\n",
       "      <td>False</td>\n",
       "      <td>8S28hDMSH6kVytQIeAPKbQ</td>\n",
       "      <td>ZjFRD1oZRZx8jto03gb-Og</td>\n",
       "      <td>5</td>\n",
       "      <td>0</td>\n",
       "      <td>0</td>\n",
       "      <td>1</td>\n",
       "      <td>Blind Dog Tavern is the best. The Staff is ama...</td>\n",
       "      <td>2018-06-18 17:19:14</td>\n",
       "      <td>0.291484</td>\n",
       "      <td>0.561843</td>\n",
       "      <td>1</td>\n",
       "      <td>[like, get, one, store, place, really, I'm, fi...</td>\n",
       "      <td>[blind, dog, tavern, best, staff, amazing, coc...</td>\n",
       "    </tr>\n",
       "    <tr>\n",
       "      <th>19998</th>\n",
       "      <td>19998</td>\n",
       "      <td>FSiPq3GSzHOch1axV8VCKA</td>\n",
       "      <td>blind dog tavern</td>\n",
       "      <td>50 N Sierra St, Ste 1A</td>\n",
       "      <td>reno</td>\n",
       "      <td>NV</td>\n",
       "      <td>89501</td>\n",
       "      <td>39.525276</td>\n",
       "      <td>-119.813913</td>\n",
       "      <td>4.5</td>\n",
       "      <td>59</td>\n",
       "      <td>1</td>\n",
       "      <td>{'RestaurantsReservations': 'False', 'Restaura...</td>\n",
       "      <td>Nightlife, Bars, Speakeasies, Lounges, Dive Ba...</td>\n",
       "      <td>{'Monday': '15:0-2:0', 'Tuesday': '15:0-2:0', ...</td>\n",
       "      <td>{}</td>\n",
       "      <td>True</td>\n",
       "      <td>{'garage': False, 'street': True, 'validated':...</td>\n",
       "      <td>False</td>\n",
       "      <td>MTOhvqxG7Zl1jUrD4WuklA</td>\n",
       "      <td>U4zhpIxjPYtrqxXiz-V--A</td>\n",
       "      <td>5</td>\n",
       "      <td>0</td>\n",
       "      <td>0</td>\n",
       "      <td>0</td>\n",
       "      <td>Omg T made us the best drinks ever.. best thin...</td>\n",
       "      <td>2019-03-08 23:57:12</td>\n",
       "      <td>0.291484</td>\n",
       "      <td>0.561843</td>\n",
       "      <td>8</td>\n",
       "      <td>[tour, place, bar, good, food, one, fun, like,...</td>\n",
       "      <td>[omg, made, us, best, drinks, ever, maybe, top...</td>\n",
       "    </tr>\n",
       "    <tr>\n",
       "      <th>19999</th>\n",
       "      <td>19999</td>\n",
       "      <td>FSiPq3GSzHOch1axV8VCKA</td>\n",
       "      <td>blind dog tavern</td>\n",
       "      <td>50 N Sierra St, Ste 1A</td>\n",
       "      <td>reno</td>\n",
       "      <td>NV</td>\n",
       "      <td>89501</td>\n",
       "      <td>39.525276</td>\n",
       "      <td>-119.813913</td>\n",
       "      <td>4.5</td>\n",
       "      <td>59</td>\n",
       "      <td>1</td>\n",
       "      <td>{'RestaurantsReservations': 'False', 'Restaura...</td>\n",
       "      <td>Nightlife, Bars, Speakeasies, Lounges, Dive Ba...</td>\n",
       "      <td>{'Monday': '15:0-2:0', 'Tuesday': '15:0-2:0', ...</td>\n",
       "      <td>{}</td>\n",
       "      <td>True</td>\n",
       "      <td>{'garage': False, 'street': True, 'validated':...</td>\n",
       "      <td>False</td>\n",
       "      <td>evRHT1N28TmQUcMfJJoRCg</td>\n",
       "      <td>2vc6r_eRlJq7RWr6WndXdg</td>\n",
       "      <td>5</td>\n",
       "      <td>2</td>\n",
       "      <td>0</td>\n",
       "      <td>2</td>\n",
       "      <td>I had walked by what feels like 100 times. I h...</td>\n",
       "      <td>2019-05-19 04:26:14</td>\n",
       "      <td>0.291484</td>\n",
       "      <td>0.561843</td>\n",
       "      <td>1</td>\n",
       "      <td>[like, get, one, store, place, really, I'm, fi...</td>\n",
       "      <td>[walked, feels, like, 100, times, physical, lo...</td>\n",
       "    </tr>\n",
       "  </tbody>\n",
       "</table>\n",
       "<p>20000 rows × 32 columns</p>\n",
       "</div>"
      ],
      "text/plain": [
       "       Unnamed: 0             business_id              name  \\\n",
       "0               0  n_0UpQx1hsNbnPUSlodU8w   famous footwear   \n",
       "1               1  n_0UpQx1hsNbnPUSlodU8w   famous footwear   \n",
       "2               2  n_0UpQx1hsNbnPUSlodU8w   famous footwear   \n",
       "3               3  n_0UpQx1hsNbnPUSlodU8w   famous footwear   \n",
       "4               4  n_0UpQx1hsNbnPUSlodU8w   famous footwear   \n",
       "...           ...                     ...               ...   \n",
       "19995       19995  FSiPq3GSzHOch1axV8VCKA  blind dog tavern   \n",
       "19996       19996  FSiPq3GSzHOch1axV8VCKA  blind dog tavern   \n",
       "19997       19997  FSiPq3GSzHOch1axV8VCKA  blind dog tavern   \n",
       "19998       19998  FSiPq3GSzHOch1axV8VCKA  blind dog tavern   \n",
       "19999       19999  FSiPq3GSzHOch1axV8VCKA  blind dog tavern   \n",
       "\n",
       "                                          address       city state  \\\n",
       "0      8522 Eager Road, Dierbergs Brentwood Point  brentwood    MO   \n",
       "1      8522 Eager Road, Dierbergs Brentwood Point  brentwood    MO   \n",
       "2      8522 Eager Road, Dierbergs Brentwood Point  brentwood    MO   \n",
       "3      8522 Eager Road, Dierbergs Brentwood Point  brentwood    MO   \n",
       "4      8522 Eager Road, Dierbergs Brentwood Point  brentwood    MO   \n",
       "...                                           ...        ...   ...   \n",
       "19995                      50 N Sierra St, Ste 1A       reno    NV   \n",
       "19996                      50 N Sierra St, Ste 1A       reno    NV   \n",
       "19997                      50 N Sierra St, Ste 1A       reno    NV   \n",
       "19998                      50 N Sierra St, Ste 1A       reno    NV   \n",
       "19999                      50 N Sierra St, Ste 1A       reno    NV   \n",
       "\n",
       "      postal_code   latitude   longitude  stars_x  review_count  is_open  \\\n",
       "0           63144  38.627695  -90.340465      2.5            13        1   \n",
       "1           63144  38.627695  -90.340465      2.5            13        1   \n",
       "2           63144  38.627695  -90.340465      2.5            13        1   \n",
       "3           63144  38.627695  -90.340465      2.5            13        1   \n",
       "4           63144  38.627695  -90.340465      2.5            13        1   \n",
       "...           ...        ...         ...      ...           ...      ...   \n",
       "19995       89501  39.525276 -119.813913      4.5            59        1   \n",
       "19996       89501  39.525276 -119.813913      4.5            59        1   \n",
       "19997       89501  39.525276 -119.813913      4.5            59        1   \n",
       "19998       89501  39.525276 -119.813913      4.5            59        1   \n",
       "19999       89501  39.525276 -119.813913      4.5            59        1   \n",
       "\n",
       "                                              attributes  \\\n",
       "0      {'RestaurantsPriceRange2': '2', 'BikeParking':...   \n",
       "1      {'RestaurantsPriceRange2': '2', 'BikeParking':...   \n",
       "2      {'RestaurantsPriceRange2': '2', 'BikeParking':...   \n",
       "3      {'RestaurantsPriceRange2': '2', 'BikeParking':...   \n",
       "4      {'RestaurantsPriceRange2': '2', 'BikeParking':...   \n",
       "...                                                  ...   \n",
       "19995  {'RestaurantsReservations': 'False', 'Restaura...   \n",
       "19996  {'RestaurantsReservations': 'False', 'Restaura...   \n",
       "19997  {'RestaurantsReservations': 'False', 'Restaura...   \n",
       "19998  {'RestaurantsReservations': 'False', 'Restaura...   \n",
       "19999  {'RestaurantsReservations': 'False', 'Restaura...   \n",
       "\n",
       "                                              categories  \\\n",
       "0      Sporting Goods, Fashion, Shoe Stores, Shopping...   \n",
       "1      Sporting Goods, Fashion, Shoe Stores, Shopping...   \n",
       "2      Sporting Goods, Fashion, Shoe Stores, Shopping...   \n",
       "3      Sporting Goods, Fashion, Shoe Stores, Shopping...   \n",
       "4      Sporting Goods, Fashion, Shoe Stores, Shopping...   \n",
       "...                                                  ...   \n",
       "19995  Nightlife, Bars, Speakeasies, Lounges, Dive Ba...   \n",
       "19996  Nightlife, Bars, Speakeasies, Lounges, Dive Ba...   \n",
       "19997  Nightlife, Bars, Speakeasies, Lounges, Dive Ba...   \n",
       "19998  Nightlife, Bars, Speakeasies, Lounges, Dive Ba...   \n",
       "19999  Nightlife, Bars, Speakeasies, Lounges, Dive Ba...   \n",
       "\n",
       "                                                   hours  \\\n",
       "0      {'Monday': '0:0-0:0', 'Tuesday': '10:0-18:0', ...   \n",
       "1      {'Monday': '0:0-0:0', 'Tuesday': '10:0-18:0', ...   \n",
       "2      {'Monday': '0:0-0:0', 'Tuesday': '10:0-18:0', ...   \n",
       "3      {'Monday': '0:0-0:0', 'Tuesday': '10:0-18:0', ...   \n",
       "4      {'Monday': '0:0-0:0', 'Tuesday': '10:0-18:0', ...   \n",
       "...                                                  ...   \n",
       "19995  {'Monday': '15:0-2:0', 'Tuesday': '15:0-2:0', ...   \n",
       "19996  {'Monday': '15:0-2:0', 'Tuesday': '15:0-2:0', ...   \n",
       "19997  {'Monday': '15:0-2:0', 'Tuesday': '15:0-2:0', ...   \n",
       "19998  {'Monday': '15:0-2:0', 'Tuesday': '15:0-2:0', ...   \n",
       "19999  {'Monday': '15:0-2:0', 'Tuesday': '15:0-2:0', ...   \n",
       "\n",
       "      BusinessAcceptsCreditCards WheelchairAccessible  \\\n",
       "0                             {}                   {}   \n",
       "1                             {}                   {}   \n",
       "2                             {}                   {}   \n",
       "3                             {}                   {}   \n",
       "4                             {}                   {}   \n",
       "...                          ...                  ...   \n",
       "19995                         {}                 True   \n",
       "19996                         {}                 True   \n",
       "19997                         {}                 True   \n",
       "19998                         {}                 True   \n",
       "19999                         {}                 True   \n",
       "\n",
       "                                         BusinessParking ByAppointmentOnly  \\\n",
       "0      {'garage': False, 'street': False, 'validated'...                {}   \n",
       "1      {'garage': False, 'street': False, 'validated'...                {}   \n",
       "2      {'garage': False, 'street': False, 'validated'...                {}   \n",
       "3      {'garage': False, 'street': False, 'validated'...                {}   \n",
       "4      {'garage': False, 'street': False, 'validated'...                {}   \n",
       "...                                                  ...               ...   \n",
       "19995  {'garage': False, 'street': True, 'validated':...             False   \n",
       "19996  {'garage': False, 'street': True, 'validated':...             False   \n",
       "19997  {'garage': False, 'street': True, 'validated':...             False   \n",
       "19998  {'garage': False, 'street': True, 'validated':...             False   \n",
       "19999  {'garage': False, 'street': True, 'validated':...             False   \n",
       "\n",
       "                    review_id                 user_id  stars_y  useful  funny  \\\n",
       "0      e_PZZ0m2sEG9UovGRxdZRQ  dT6O_rV9DWYS-zHXhA6S6w        4       3      2   \n",
       "1      WNv6UCHTmce7wgImLKP4sg  AAYvaNRQ0TD_2Lpo-wFOUA        4       3      2   \n",
       "2      VwoJCaULB5cRGnDiYGFYJA  V9fW3-fJ-sEMz_ewPpzXXg        1       2      0   \n",
       "3      crAIe0dciujX2sFvi7bSkA  iSgusF1eKu23mNG87zav4Q        1       0      0   \n",
       "4      DRvrkDpdTOXK4j-Vx9qyDg  XfdP4UU3xMcdJbM3qUIaPA        5       0      0   \n",
       "...                       ...                     ...      ...     ...    ...   \n",
       "19995  IeIkt1BY9zKi4p3HM-tcJg  TzjQHqlWUcWkQ1zLavRvig        5       0      0   \n",
       "19996  MtWNqNHfla_OmCIUc-n9Nw  AUmp265ZW1MRbcm-OPpxYw        5       2      0   \n",
       "19997  8S28hDMSH6kVytQIeAPKbQ  ZjFRD1oZRZx8jto03gb-Og        5       0      0   \n",
       "19998  MTOhvqxG7Zl1jUrD4WuklA  U4zhpIxjPYtrqxXiz-V--A        5       0      0   \n",
       "19999  evRHT1N28TmQUcMfJJoRCg  2vc6r_eRlJq7RWr6WndXdg        5       2      0   \n",
       "\n",
       "       cool                                               text  \\\n",
       "0         2  This has become my go to place for shoes.  I a...   \n",
       "1         1  Oh, I do enjoy Famous Footwear. \\n\\nThe occasi...   \n",
       "2         0  Ordered shoes online it clearly says free retu...   \n",
       "3         0  Poor customer service will never be shopping a...   \n",
       "4         0  Found a great deal on a pair of Nike running s...   \n",
       "...     ...                                                ...   \n",
       "19995     0  Seriously, my new favorite place in Reno. My b...   \n",
       "19996     2  I've been searching for the best spiked coffee...   \n",
       "19997     1  Blind Dog Tavern is the best. The Staff is ama...   \n",
       "19998     0  Omg T made us the best drinks ever.. best thin...   \n",
       "19999     2  I had walked by what feels like 100 times. I h...   \n",
       "\n",
       "                      date  sentiment_polarity  sentiment_subjectivity  \\\n",
       "0      2015-12-06 16:46:43            0.109394                0.519021   \n",
       "1      2016-03-20 21:52:13            0.109394                0.519021   \n",
       "2      2014-10-03 21:42:17            0.109394                0.519021   \n",
       "3      2018-08-13 15:40:01            0.109394                0.519021   \n",
       "4      2017-01-25 19:00:25            0.109394                0.519021   \n",
       "...                    ...                 ...                     ...   \n",
       "19995  2019-03-16 03:40:28            0.291484                0.561843   \n",
       "19996  2019-02-24 04:58:09            0.291484                0.561843   \n",
       "19997  2018-06-18 17:19:14            0.291484                0.561843   \n",
       "19998  2019-03-08 23:57:12            0.291484                0.561843   \n",
       "19999  2019-05-19 04:26:14            0.291484                0.561843   \n",
       "\n",
       "       topic_id                                        topic_words  \\\n",
       "0             1  [like, get, one, store, place, really, I'm, fi...   \n",
       "1             1  [like, get, one, store, place, really, I'm, fi...   \n",
       "2             5  [would, get, back, time, told, said, got, went...   \n",
       "3             5  [would, get, back, time, told, said, got, went...   \n",
       "4             1  [like, get, one, store, place, really, I'm, fi...   \n",
       "...         ...                                                ...   \n",
       "19995         4  [great, place, time, always, recommend, I've, ...   \n",
       "19996         4  [great, place, time, always, recommend, I've, ...   \n",
       "19997         1  [like, get, one, store, place, really, I'm, fi...   \n",
       "19998         8  [tour, place, bar, good, food, one, fun, like,...   \n",
       "19999         1  [like, get, one, store, place, really, I'm, fi...   \n",
       "\n",
       "                                                keywords  \n",
       "0      [become, go, place, shoes, rewards, member, of...  \n",
       "1      [enjoy, famous, footwear, oh, occasional, bogo...  \n",
       "2      [ordered, shoes, online, clearly, says, free, ...  \n",
       "3      [poor, customer, service, never, shopping, sto...  \n",
       "4      [found, great, deal, pair, nike, running, shoe...  \n",
       "...                                                  ...  \n",
       "19995  [new, favorite, place, reno, seriously, boyfri...  \n",
       "19996  [searching, best, spiked, coffee, would, guess...  \n",
       "19997  [blind, dog, tavern, best, staff, amazing, coc...  \n",
       "19998  [omg, made, us, best, drinks, ever, maybe, top...  \n",
       "19999  [walked, feels, like, 100, times, physical, lo...  \n",
       "\n",
       "[20000 rows x 32 columns]"
      ]
     },
     "execution_count": 16,
     "metadata": {},
     "output_type": "execute_result"
    }
   ],
   "source": [
    "tst = subset_non_food_reviews.iloc[:20000,]\n",
    "tmp = CBR.sentiment_analysis(tst)\n",
    "tst_lda, tst_dict = CBR.lda_model(tst, num_topics=10, remove_stopwords=True)\n",
    "tmp = CBR.extract_topics(tmp, tst_lda, tst_dict, num_words=10, remove_stopwords=True)\n",
    "tmp = CBR.extract_keywords(tmp, remove_stopwords=True)\n",
    "tmp"
   ]
  },
  {
   "cell_type": "code",
   "execution_count": 19,
   "metadata": {},
   "outputs": [
    {
     "data": {
      "text/html": [
       "<div>\n",
       "<style scoped>\n",
       "    .dataframe tbody tr th:only-of-type {\n",
       "        vertical-align: middle;\n",
       "    }\n",
       "\n",
       "    .dataframe tbody tr th {\n",
       "        vertical-align: top;\n",
       "    }\n",
       "\n",
       "    .dataframe thead th {\n",
       "        text-align: right;\n",
       "    }\n",
       "</style>\n",
       "<table border=\"1\" class=\"dataframe\">\n",
       "  <thead>\n",
       "    <tr style=\"text-align: right;\">\n",
       "      <th></th>\n",
       "      <th>business_id</th>\n",
       "      <th>name</th>\n",
       "      <th>city</th>\n",
       "      <th>state</th>\n",
       "      <th>stars</th>\n",
       "      <th>review_count</th>\n",
       "      <th>sentiment_polarity</th>\n",
       "      <th>sentiment_subjectivity</th>\n",
       "      <th>topic_words_top20</th>\n",
       "      <th>keywords_top20</th>\n",
       "      <th>reviews</th>\n",
       "    </tr>\n",
       "  </thead>\n",
       "  <tbody>\n",
       "    <tr>\n",
       "      <th>0</th>\n",
       "      <td>-7GjicSH_rM8JeZGCXGcUg</td>\n",
       "      <td>double decker</td>\n",
       "      <td>tampa</td>\n",
       "      <td>FL</td>\n",
       "      <td>3.181818</td>\n",
       "      <td>86.0</td>\n",
       "      <td>0.175360</td>\n",
       "      <td>0.499188</td>\n",
       "      <td>[one, place, good, like, tour, bar, food, fun,...</td>\n",
       "      <td>[bar, karaoke, n, place, fun, great, like, nig...</td>\n",
       "      <td>We stopped in while bar hopping for a friend's...</td>\n",
       "    </tr>\n",
       "    <tr>\n",
       "      <th>1</th>\n",
       "      <td>-9n0NDe_pP1ZnrWr-lsDXQ</td>\n",
       "      <td>ralph's barber shop</td>\n",
       "      <td>glenside</td>\n",
       "      <td>PA</td>\n",
       "      <td>3.611111</td>\n",
       "      <td>18.0</td>\n",
       "      <td>0.170614</td>\n",
       "      <td>0.521920</td>\n",
       "      <td>[get, place, time, really, one, great, always,...</td>\n",
       "      <td>[haircut, great, get, hair, barber, n, place, ...</td>\n",
       "      <td>An incredible local family establishment. I've...</td>\n",
       "    </tr>\n",
       "    <tr>\n",
       "      <th>2</th>\n",
       "      <td>-BhSR6dAry5-2x3ndjX_9w</td>\n",
       "      <td>meister's barber shop</td>\n",
       "      <td>philadelphia</td>\n",
       "      <td>PA</td>\n",
       "      <td>3.913580</td>\n",
       "      <td>79.0</td>\n",
       "      <td>0.231719</td>\n",
       "      <td>0.538825</td>\n",
       "      <td>[get, place, really, time, great, always, reco...</td>\n",
       "      <td>[cut, great, hair, n, haircut, barber, place, ...</td>\n",
       "      <td>Coming from Los Angeles where the hair style c...</td>\n",
       "    </tr>\n",
       "    <tr>\n",
       "      <th>3</th>\n",
       "      <td>-UNPalKlpI-_2ejgFNCBPg</td>\n",
       "      <td>francesca's</td>\n",
       "      <td>nashville</td>\n",
       "      <td>TN</td>\n",
       "      <td>3.583333</td>\n",
       "      <td>12.0</td>\n",
       "      <td>0.189286</td>\n",
       "      <td>0.586814</td>\n",
       "      <td>[get, one, place, really, like, store, I'm, fi...</td>\n",
       "      <td>[store, n, like, cute, back, one, little, --, ...</td>\n",
       "      <td>This store is packed into a pretty small space...</td>\n",
       "    </tr>\n",
       "    <tr>\n",
       "      <th>4</th>\n",
       "      <td>-cK2OGOzkvSaxkb91SIjVg</td>\n",
       "      <td>fantastic sams cut &amp; color</td>\n",
       "      <td>zephyrhills</td>\n",
       "      <td>FL</td>\n",
       "      <td>2.333333</td>\n",
       "      <td>6.0</td>\n",
       "      <td>0.181969</td>\n",
       "      <td>0.525376</td>\n",
       "      <td>[time, get, would, back, told, said, got, went...</td>\n",
       "      <td>[get, cut, appointment, n, hair, one, first, t...</td>\n",
       "      <td>Fantastic  Sam's  Hair  Salon  in  Zephyrhills...</td>\n",
       "    </tr>\n",
       "    <tr>\n",
       "      <th>...</th>\n",
       "      <td>...</td>\n",
       "      <td>...</td>\n",
       "      <td>...</td>\n",
       "      <td>...</td>\n",
       "      <td>...</td>\n",
       "      <td>...</td>\n",
       "      <td>...</td>\n",
       "      <td>...</td>\n",
       "      <td>...</td>\n",
       "      <td>...</td>\n",
       "      <td>...</td>\n",
       "    </tr>\n",
       "    <tr>\n",
       "      <th>846</th>\n",
       "      <td>zn-WXkqHag5FSVc_LC9dEQ</td>\n",
       "      <td>renee hair salon</td>\n",
       "      <td>havertown</td>\n",
       "      <td>PA</td>\n",
       "      <td>4.200000</td>\n",
       "      <td>5.0</td>\n",
       "      <td>0.254306</td>\n",
       "      <td>0.594231</td>\n",
       "      <td>[time, get, great, place, always, recommend, I...</td>\n",
       "      <td>[salon, hair, renee, told, elena, amy, amazing...</td>\n",
       "      <td>I've been going to Renee for 16 years &amp; I woul...</td>\n",
       "    </tr>\n",
       "    <tr>\n",
       "      <th>847</th>\n",
       "      <td>znTKlh4x8NoBIojm4Yo5hA</td>\n",
       "      <td>albert's transportation</td>\n",
       "      <td>mount laurel</td>\n",
       "      <td>NJ</td>\n",
       "      <td>3.850000</td>\n",
       "      <td>20.0</td>\n",
       "      <td>0.209416</td>\n",
       "      <td>0.499913</td>\n",
       "      <td>[get, time, one, place, really, would, back, t...</td>\n",
       "      <td>[albert, back, service, wedding, time, pick, d...</td>\n",
       "      <td>This is my first ever yelp review, because I t...</td>\n",
       "    </tr>\n",
       "    <tr>\n",
       "      <th>848</th>\n",
       "      <td>znwTYnVgJ1MKQguvqEtMrA</td>\n",
       "      <td>the foot whisperer, inc</td>\n",
       "      <td>eagle</td>\n",
       "      <td>ID</td>\n",
       "      <td>4.555556</td>\n",
       "      <td>9.0</td>\n",
       "      <td>0.361408</td>\n",
       "      <td>0.561340</td>\n",
       "      <td>[get, time, place, really, great, always, reco...</td>\n",
       "      <td>[jeanne, pedicure, best, experience, spa, rela...</td>\n",
       "      <td>I've left voicemail messages with this busines...</td>\n",
       "    </tr>\n",
       "    <tr>\n",
       "      <th>849</th>\n",
       "      <td>zyge4T5eSiPHq1-IaJb_Qg</td>\n",
       "      <td>nancy le nails</td>\n",
       "      <td>philadelphia</td>\n",
       "      <td>PA</td>\n",
       "      <td>1.800000</td>\n",
       "      <td>10.0</td>\n",
       "      <td>0.076507</td>\n",
       "      <td>0.483948</td>\n",
       "      <td>[would, get, back, time, told, said, got, went...</td>\n",
       "      <td>[n, service, nails, like, get, went, salon, go...</td>\n",
       "      <td>Came here for my first time with my friend and...</td>\n",
       "    </tr>\n",
       "    <tr>\n",
       "      <th>850</th>\n",
       "      <td>zztOG2cKm87I6Iw_tleZsQ</td>\n",
       "      <td>project management academy</td>\n",
       "      <td>king of prussia</td>\n",
       "      <td>PA</td>\n",
       "      <td>4.833333</td>\n",
       "      <td>6.0</td>\n",
       "      <td>0.321209</td>\n",
       "      <td>0.582567</td>\n",
       "      <td>[time, get, would, back, told, said, got, went...</td>\n",
       "      <td>[course, pmp, exam, instructor, recommend, cla...</td>\n",
       "      <td>This course is exactly what I needed to get me...</td>\n",
       "    </tr>\n",
       "  </tbody>\n",
       "</table>\n",
       "<p>851 rows × 11 columns</p>\n",
       "</div>"
      ],
      "text/plain": [
       "                business_id                        name             city  \\\n",
       "0    -7GjicSH_rM8JeZGCXGcUg               double decker            tampa   \n",
       "1    -9n0NDe_pP1ZnrWr-lsDXQ         ralph's barber shop         glenside   \n",
       "2    -BhSR6dAry5-2x3ndjX_9w       meister's barber shop     philadelphia   \n",
       "3    -UNPalKlpI-_2ejgFNCBPg                 francesca's        nashville   \n",
       "4    -cK2OGOzkvSaxkb91SIjVg  fantastic sams cut & color      zephyrhills   \n",
       "..                      ...                         ...              ...   \n",
       "846  zn-WXkqHag5FSVc_LC9dEQ            renee hair salon        havertown   \n",
       "847  znTKlh4x8NoBIojm4Yo5hA     albert's transportation     mount laurel   \n",
       "848  znwTYnVgJ1MKQguvqEtMrA     the foot whisperer, inc            eagle   \n",
       "849  zyge4T5eSiPHq1-IaJb_Qg              nancy le nails     philadelphia   \n",
       "850  zztOG2cKm87I6Iw_tleZsQ  project management academy  king of prussia   \n",
       "\n",
       "    state     stars  review_count  sentiment_polarity  sentiment_subjectivity  \\\n",
       "0      FL  3.181818          86.0            0.175360                0.499188   \n",
       "1      PA  3.611111          18.0            0.170614                0.521920   \n",
       "2      PA  3.913580          79.0            0.231719                0.538825   \n",
       "3      TN  3.583333          12.0            0.189286                0.586814   \n",
       "4      FL  2.333333           6.0            0.181969                0.525376   \n",
       "..    ...       ...           ...                 ...                     ...   \n",
       "846    PA  4.200000           5.0            0.254306                0.594231   \n",
       "847    NJ  3.850000          20.0            0.209416                0.499913   \n",
       "848    ID  4.555556           9.0            0.361408                0.561340   \n",
       "849    PA  1.800000          10.0            0.076507                0.483948   \n",
       "850    PA  4.833333           6.0            0.321209                0.582567   \n",
       "\n",
       "                                     topic_words_top20  \\\n",
       "0    [one, place, good, like, tour, bar, food, fun,...   \n",
       "1    [get, place, time, really, one, great, always,...   \n",
       "2    [get, place, really, time, great, always, reco...   \n",
       "3    [get, one, place, really, like, store, I'm, fi...   \n",
       "4    [time, get, would, back, told, said, got, went...   \n",
       "..                                                 ...   \n",
       "846  [time, get, great, place, always, recommend, I...   \n",
       "847  [get, time, one, place, really, would, back, t...   \n",
       "848  [get, time, place, really, great, always, reco...   \n",
       "849  [would, get, back, time, told, said, got, went...   \n",
       "850  [time, get, would, back, told, said, got, went...   \n",
       "\n",
       "                                        keywords_top20  \\\n",
       "0    [bar, karaoke, n, place, fun, great, like, nig...   \n",
       "1    [haircut, great, get, hair, barber, n, place, ...   \n",
       "2    [cut, great, hair, n, haircut, barber, place, ...   \n",
       "3    [store, n, like, cute, back, one, little, --, ...   \n",
       "4    [get, cut, appointment, n, hair, one, first, t...   \n",
       "..                                                 ...   \n",
       "846  [salon, hair, renee, told, elena, amy, amazing...   \n",
       "847  [albert, back, service, wedding, time, pick, d...   \n",
       "848  [jeanne, pedicure, best, experience, spa, rela...   \n",
       "849  [n, service, nails, like, get, went, salon, go...   \n",
       "850  [course, pmp, exam, instructor, recommend, cla...   \n",
       "\n",
       "                                               reviews  \n",
       "0    We stopped in while bar hopping for a friend's...  \n",
       "1    An incredible local family establishment. I've...  \n",
       "2    Coming from Los Angeles where the hair style c...  \n",
       "3    This store is packed into a pretty small space...  \n",
       "4    Fantastic  Sam's  Hair  Salon  in  Zephyrhills...  \n",
       "..                                                 ...  \n",
       "846  I've been going to Renee for 16 years & I woul...  \n",
       "847  This is my first ever yelp review, because I t...  \n",
       "848  I've left voicemail messages with this busines...  \n",
       "849  Came here for my first time with my friend and...  \n",
       "850  This course is exactly what I needed to get me...  \n",
       "\n",
       "[851 rows x 11 columns]"
      ]
     },
     "execution_count": 19,
     "metadata": {},
     "output_type": "execute_result"
    }
   ],
   "source": [
    "tmp_agg = CBR.content_based_aggregate(tmp)\n",
    "tmp_agg"
   ]
  },
  {
   "cell_type": "code",
   "execution_count": 20,
   "metadata": {},
   "outputs": [
    {
     "data": {
      "text/html": [
       "<div>\n",
       "<style scoped>\n",
       "    .dataframe tbody tr th:only-of-type {\n",
       "        vertical-align: middle;\n",
       "    }\n",
       "\n",
       "    .dataframe tbody tr th {\n",
       "        vertical-align: top;\n",
       "    }\n",
       "\n",
       "    .dataframe thead th {\n",
       "        text-align: right;\n",
       "    }\n",
       "</style>\n",
       "<table border=\"1\" class=\"dataframe\">\n",
       "  <thead>\n",
       "    <tr style=\"text-align: right;\">\n",
       "      <th></th>\n",
       "      <th>business_id</th>\n",
       "      <th>name</th>\n",
       "      <th>city</th>\n",
       "      <th>state</th>\n",
       "      <th>sentiment_polarity</th>\n",
       "      <th>sentiment_subjectivity</th>\n",
       "      <th>topic_words_top20</th>\n",
       "      <th>keywords_top20</th>\n",
       "      <th>reviews</th>\n",
       "      <th>sentiment_polarity_rank</th>\n",
       "      <th>sentiment_subjectivity_rank</th>\n",
       "      <th>topic_words_top20_rank</th>\n",
       "      <th>keywords_top20_rank</th>\n",
       "      <th>reviews_rank</th>\n",
       "      <th>avg_rank</th>\n",
       "    </tr>\n",
       "  </thead>\n",
       "  <tbody>\n",
       "    <tr>\n",
       "      <th>0</th>\n",
       "      <td>IAj1Lw3FAOY-yZn4IO7ElQ</td>\n",
       "      <td>baum's dancewear</td>\n",
       "      <td>philadelphia</td>\n",
       "      <td>PA</td>\n",
       "      <td>1.0</td>\n",
       "      <td>1.0</td>\n",
       "      <td>0.945905</td>\n",
       "      <td>0.389490</td>\n",
       "      <td>0.0</td>\n",
       "      <td>1</td>\n",
       "      <td>1</td>\n",
       "      <td>2</td>\n",
       "      <td>1</td>\n",
       "      <td>1</td>\n",
       "      <td>1.2</td>\n",
       "    </tr>\n",
       "    <tr>\n",
       "      <th>1</th>\n",
       "      <td>he6ypFmnUF95PlNUWT6i5g</td>\n",
       "      <td>tj maxx</td>\n",
       "      <td>philadelphia</td>\n",
       "      <td>PA</td>\n",
       "      <td>1.0</td>\n",
       "      <td>1.0</td>\n",
       "      <td>1.000000</td>\n",
       "      <td>0.270369</td>\n",
       "      <td>0.0</td>\n",
       "      <td>1</td>\n",
       "      <td>1</td>\n",
       "      <td>1</td>\n",
       "      <td>3</td>\n",
       "      <td>1</td>\n",
       "      <td>1.4</td>\n",
       "    </tr>\n",
       "    <tr>\n",
       "      <th>2</th>\n",
       "      <td>LvFmVnPSbi0lmgpcK_qw-Q</td>\n",
       "      <td>foot locker</td>\n",
       "      <td>philadelphia</td>\n",
       "      <td>PA</td>\n",
       "      <td>1.0</td>\n",
       "      <td>1.0</td>\n",
       "      <td>0.945905</td>\n",
       "      <td>0.324443</td>\n",
       "      <td>0.0</td>\n",
       "      <td>1</td>\n",
       "      <td>1</td>\n",
       "      <td>2</td>\n",
       "      <td>2</td>\n",
       "      <td>1</td>\n",
       "      <td>1.4</td>\n",
       "    </tr>\n",
       "    <tr>\n",
       "      <th>3</th>\n",
       "      <td>h-y5azB-VlQAT3m7Ff2g2Q</td>\n",
       "      <td>p's &amp; q's - premium quality</td>\n",
       "      <td>philadelphia</td>\n",
       "      <td>PA</td>\n",
       "      <td>1.0</td>\n",
       "      <td>1.0</td>\n",
       "      <td>0.945905</td>\n",
       "      <td>0.222566</td>\n",
       "      <td>0.0</td>\n",
       "      <td>1</td>\n",
       "      <td>1</td>\n",
       "      <td>2</td>\n",
       "      <td>4</td>\n",
       "      <td>1</td>\n",
       "      <td>1.8</td>\n",
       "    </tr>\n",
       "    <tr>\n",
       "      <th>4</th>\n",
       "      <td>9VRg8Ho9SoZWKPmjfrpVmw</td>\n",
       "      <td>forman mills</td>\n",
       "      <td>philadelphia</td>\n",
       "      <td>PA</td>\n",
       "      <td>1.0</td>\n",
       "      <td>1.0</td>\n",
       "      <td>1.000000</td>\n",
       "      <td>0.216295</td>\n",
       "      <td>0.0</td>\n",
       "      <td>1</td>\n",
       "      <td>1</td>\n",
       "      <td>1</td>\n",
       "      <td>5</td>\n",
       "      <td>1</td>\n",
       "      <td>1.8</td>\n",
       "    </tr>\n",
       "    <tr>\n",
       "      <th>5</th>\n",
       "      <td>eJ77e9lGxY3ArzaoDbHhYw</td>\n",
       "      <td>paddy whacks irish sports pub - south street</td>\n",
       "      <td>philadelphia</td>\n",
       "      <td>PA</td>\n",
       "      <td>1.0</td>\n",
       "      <td>1.0</td>\n",
       "      <td>0.778981</td>\n",
       "      <td>0.216295</td>\n",
       "      <td>0.0</td>\n",
       "      <td>1</td>\n",
       "      <td>1</td>\n",
       "      <td>3</td>\n",
       "      <td>5</td>\n",
       "      <td>1</td>\n",
       "      <td>2.2</td>\n",
       "    </tr>\n",
       "    <tr>\n",
       "      <th>6</th>\n",
       "      <td>C2KhibuDzv3HJvZubkHTJA</td>\n",
       "      <td>village thrift stores</td>\n",
       "      <td>philadelphia</td>\n",
       "      <td>PA</td>\n",
       "      <td>1.0</td>\n",
       "      <td>1.0</td>\n",
       "      <td>0.945905</td>\n",
       "      <td>0.166924</td>\n",
       "      <td>0.0</td>\n",
       "      <td>1</td>\n",
       "      <td>1</td>\n",
       "      <td>2</td>\n",
       "      <td>7</td>\n",
       "      <td>1</td>\n",
       "      <td>2.4</td>\n",
       "    </tr>\n",
       "    <tr>\n",
       "      <th>7</th>\n",
       "      <td>yZP6Z8sbDpkeXyjNMDiyDg</td>\n",
       "      <td>guess - walnut street</td>\n",
       "      <td>philadelphia</td>\n",
       "      <td>PA</td>\n",
       "      <td>1.0</td>\n",
       "      <td>1.0</td>\n",
       "      <td>0.945905</td>\n",
       "      <td>0.162221</td>\n",
       "      <td>0.0</td>\n",
       "      <td>1</td>\n",
       "      <td>1</td>\n",
       "      <td>2</td>\n",
       "      <td>8</td>\n",
       "      <td>1</td>\n",
       "      <td>2.6</td>\n",
       "    </tr>\n",
       "    <tr>\n",
       "      <th>8</th>\n",
       "      <td>swiwJRUQHt79dJ5hqAERtQ</td>\n",
       "      <td>total serenity day spa</td>\n",
       "      <td>philadelphia</td>\n",
       "      <td>PA</td>\n",
       "      <td>1.0</td>\n",
       "      <td>1.0</td>\n",
       "      <td>0.759257</td>\n",
       "      <td>0.166924</td>\n",
       "      <td>0.0</td>\n",
       "      <td>1</td>\n",
       "      <td>1</td>\n",
       "      <td>5</td>\n",
       "      <td>7</td>\n",
       "      <td>1</td>\n",
       "      <td>3.0</td>\n",
       "    </tr>\n",
       "    <tr>\n",
       "      <th>9</th>\n",
       "      <td>zyge4T5eSiPHq1-IaJb_Qg</td>\n",
       "      <td>nancy le nails</td>\n",
       "      <td>philadelphia</td>\n",
       "      <td>PA</td>\n",
       "      <td>1.0</td>\n",
       "      <td>1.0</td>\n",
       "      <td>0.766965</td>\n",
       "      <td>0.162221</td>\n",
       "      <td>0.0</td>\n",
       "      <td>1</td>\n",
       "      <td>1</td>\n",
       "      <td>4</td>\n",
       "      <td>8</td>\n",
       "      <td>1</td>\n",
       "      <td>3.0</td>\n",
       "    </tr>\n",
       "  </tbody>\n",
       "</table>\n",
       "</div>"
      ],
      "text/plain": [
       "              business_id                                          name  \\\n",
       "0  IAj1Lw3FAOY-yZn4IO7ElQ                              baum's dancewear   \n",
       "1  he6ypFmnUF95PlNUWT6i5g                                       tj maxx   \n",
       "2  LvFmVnPSbi0lmgpcK_qw-Q                                   foot locker   \n",
       "3  h-y5azB-VlQAT3m7Ff2g2Q                   p's & q's - premium quality   \n",
       "4  9VRg8Ho9SoZWKPmjfrpVmw                                  forman mills   \n",
       "5  eJ77e9lGxY3ArzaoDbHhYw  paddy whacks irish sports pub - south street   \n",
       "6  C2KhibuDzv3HJvZubkHTJA                         village thrift stores   \n",
       "7  yZP6Z8sbDpkeXyjNMDiyDg                         guess - walnut street   \n",
       "8  swiwJRUQHt79dJ5hqAERtQ                        total serenity day spa   \n",
       "9  zyge4T5eSiPHq1-IaJb_Qg                                nancy le nails   \n",
       "\n",
       "           city state  sentiment_polarity  sentiment_subjectivity  \\\n",
       "0  philadelphia    PA                 1.0                     1.0   \n",
       "1  philadelphia    PA                 1.0                     1.0   \n",
       "2  philadelphia    PA                 1.0                     1.0   \n",
       "3  philadelphia    PA                 1.0                     1.0   \n",
       "4  philadelphia    PA                 1.0                     1.0   \n",
       "5  philadelphia    PA                 1.0                     1.0   \n",
       "6  philadelphia    PA                 1.0                     1.0   \n",
       "7  philadelphia    PA                 1.0                     1.0   \n",
       "8  philadelphia    PA                 1.0                     1.0   \n",
       "9  philadelphia    PA                 1.0                     1.0   \n",
       "\n",
       "   topic_words_top20  keywords_top20  reviews  sentiment_polarity_rank  \\\n",
       "0           0.945905        0.389490      0.0                        1   \n",
       "1           1.000000        0.270369      0.0                        1   \n",
       "2           0.945905        0.324443      0.0                        1   \n",
       "3           0.945905        0.222566      0.0                        1   \n",
       "4           1.000000        0.216295      0.0                        1   \n",
       "5           0.778981        0.216295      0.0                        1   \n",
       "6           0.945905        0.166924      0.0                        1   \n",
       "7           0.945905        0.162221      0.0                        1   \n",
       "8           0.759257        0.166924      0.0                        1   \n",
       "9           0.766965        0.162221      0.0                        1   \n",
       "\n",
       "   sentiment_subjectivity_rank  topic_words_top20_rank  keywords_top20_rank  \\\n",
       "0                            1                       2                    1   \n",
       "1                            1                       1                    3   \n",
       "2                            1                       2                    2   \n",
       "3                            1                       2                    4   \n",
       "4                            1                       1                    5   \n",
       "5                            1                       3                    5   \n",
       "6                            1                       2                    7   \n",
       "7                            1                       2                    8   \n",
       "8                            1                       5                    7   \n",
       "9                            1                       4                    8   \n",
       "\n",
       "   reviews_rank  avg_rank  \n",
       "0             1       1.2  \n",
       "1             1       1.4  \n",
       "2             1       1.4  \n",
       "3             1       1.8  \n",
       "4             1       1.8  \n",
       "5             1       2.2  \n",
       "6             1       2.4  \n",
       "7             1       2.6  \n",
       "8             1       3.0  \n",
       "9             1       3.0  "
      ]
     },
     "execution_count": 20,
     "metadata": {},
     "output_type": "execute_result"
    }
   ],
   "source": [
    "cs_tmp = CBR.calc_cosine_similarity(\n",
    "    tmp_agg, target_business_name,my_city, dest_city\n",
    ")\n",
    "CBR.content_based_recommender(cs_tmp)"
   ]
  },
  {
   "attachments": {},
   "cell_type": "markdown",
   "metadata": {},
   "source": [
    "# Algorithm Evaluation"
   ]
  },
  {
   "cell_type": "code",
   "execution_count": null,
   "metadata": {},
   "outputs": [],
   "source": [
    "# Business with reviews from the target user\n",
    "subset_non_food_reviews[(subset_non_food_reviews['user_id']==target_user) & (subset_non_food_reviews['stars_y']==5)]['name'].unique()\n",
    "rating_sites = subset_non_food_reviews[subset_non_food_reviews['user_id']==target_user].groupby('name').mean().sort_values(by='stars_y',ascending=False)\n",
    "rating_sites['site_name'] = rating_sites.index\n",
    "display(rating_sites.head())\n",
    "display(rating_sites.tail())"
   ]
  },
  {
   "cell_type": "code",
   "execution_count": null,
   "metadata": {},
   "outputs": [],
   "source": [
    "target_user_non_food = pd.merge(subset_non_food_reviews[(subset_non_food_reviews['user_id']==target_user)& (subset_non_food_reviews['city']==dest_city)],corr_target_location_tbl, left_on='name', right_on='name')\n",
    "target_user_non_food.head()"
   ]
  },
  {
   "cell_type": "code",
   "execution_count": null,
   "metadata": {},
   "outputs": [],
   "source": []
  },
  {
   "cell_type": "code",
   "execution_count": null,
   "metadata": {},
   "outputs": [],
   "source": []
  },
  {
   "cell_type": "code",
   "execution_count": null,
   "metadata": {},
   "outputs": [],
   "source": []
  },
  {
   "cell_type": "code",
   "execution_count": null,
   "metadata": {},
   "outputs": [],
   "source": []
  },
  {
   "cell_type": "code",
   "execution_count": null,
   "metadata": {},
   "outputs": [],
   "source": []
  },
  {
   "cell_type": "code",
   "execution_count": null,
   "metadata": {},
   "outputs": [],
   "source": []
  },
  {
   "cell_type": "code",
   "execution_count": null,
   "metadata": {},
   "outputs": [],
   "source": []
  },
  {
   "cell_type": "code",
   "execution_count": null,
   "metadata": {},
   "outputs": [],
   "source": []
  },
  {
   "cell_type": "markdown",
   "metadata": {},
   "source": [
    "<a id=\"NN-keras\"></a>\n",
    "## 2. Neural Network Model - Keras\n",
    "\n",
    "Finally, we’ll build a neural network and see how it compares to the other collaborative filtering approach. "
   ]
  },
  {
   "cell_type": "code",
   "execution_count": null,
   "metadata": {},
   "outputs": [],
   "source": [
    "# create the copy of combined_business_data table\n",
    "combined_business_data_keras = combined_business_data.copy()\n",
    "combined_business_data_keras.head(1)"
   ]
  },
  {
   "cell_type": "markdown",
   "metadata": {},
   "source": [
    "We are using LabelEncoder from sklearn to encode business and user id's. We will create variables that store unique users, restaurants, min_rating, and max_rating."
   ]
  },
  {
   "cell_type": "code",
   "execution_count": null,
   "metadata": {},
   "outputs": [],
   "source": [
    "from sklearn.preprocessing import LabelEncoder\n",
    "\n",
    "user_encode = LabelEncoder()\n",
    "\n",
    "combined_business_data_keras['user'] = user_encode.fit_transform(combined_business_data_keras['user_id'].values)\n",
    "n_users = combined_business_data_keras['user'].nunique()\n",
    "\n",
    "item_encode = LabelEncoder()\n",
    "\n",
    "combined_business_data_keras['business'] = item_encode.fit_transform(combined_business_data_keras['business_id'].values)\n",
    "n_rests = combined_business_data_keras['business'].nunique()\n",
    "\n",
    "combined_business_data_keras['stars'] = combined_business_data_keras['stars'].values#.astype(np.float32)\n",
    "\n",
    "min_rating = min(combined_business_data_keras['stars'])\n",
    "max_rating = max(combined_business_data_keras['stars'])\n",
    "\n",
    "print(n_users, n_rests, min_rating, max_rating)\n",
    "\n",
    "combined_business_data_keras"
   ]
  },
  {
   "cell_type": "markdown",
   "metadata": {},
   "source": [
    "Split the data into train and test sets."
   ]
  },
  {
   "cell_type": "code",
   "execution_count": null,
   "metadata": {},
   "outputs": [],
   "source": [
    "from sklearn.model_selection import train_test_split\n",
    "\n",
    "X = combined_business_data_keras[['user', 'business']].values\n",
    "y = combined_business_data_keras['stars'].values\n",
    "\n",
    "X_train_keras, X_test_keras, y_train_keras, y_test_keras = train_test_split(X, y, test_size=0.2, random_state=42)\n",
    "X_train_keras.shape, X_test_keras.shape, y_train_keras.shape, y_test_keras.shape"
   ]
  },
  {
   "cell_type": "code",
   "execution_count": null,
   "metadata": {},
   "outputs": [],
   "source": [
    "X_train_keras[:, 0]"
   ]
  },
  {
   "cell_type": "markdown",
   "metadata": {},
   "source": [
    "We will need another variable that stores the number of factors per user/restaurant for the model. This number can be arbitrary. But for the Collaborative filtering model it needs to be the same size for both users and restaurants. \n",
    "\n",
    "Finally, we will store users and restaurants into separate arrays for the train and test set. It is because in Keras they’ll each be defined as distinct inputs."
   ]
  },
  {
   "cell_type": "code",
   "execution_count": null,
   "metadata": {},
   "outputs": [],
   "source": [
    "n_factors = 50\n",
    "\n",
    "X_train_array = [X_train_keras[:, 0], X_train_keras[:, 1]]\n",
    "X_test_array = [X_test_keras[:, 0], X_test_keras[:, 1]]"
   ]
  },
  {
   "cell_type": "code",
   "execution_count": null,
   "metadata": {},
   "outputs": [],
   "source": [
    "X_train_array, X_test_array"
   ]
  },
  {
   "cell_type": "markdown",
   "metadata": {},
   "source": [
    "Here, we’re going to use embeddings to represent each user and each restaurant in the data. To get these embeddings we need to do the dot product between the user vector and restaurant vector. As a result, we will have vectors of size n factors to capture the weights related to each user per restaurant. \n",
    "\n",
    "In order to increase the model performance, we add the \"bias\" to each embedding. We run the output of the dot product through a sigmoid layer and then scaling the result using the min and max ratings in the data. "
   ]
  },
  {
   "cell_type": "code",
   "execution_count": null,
   "metadata": {},
   "outputs": [],
   "source": [
    "from keras.layers import Add, Activation, Lambda\n",
    "from keras.models import Model\n",
    "from keras.layers import Input, Reshape, Dot\n",
    "from keras.layers.embeddings import Embedding\n",
    "from keras.optimizers import Adam\n",
    "from keras.regularizers import l2\n",
    "\n",
    "class EmbeddingLayer:\n",
    "    def __init__(self, n_items, n_factors):\n",
    "        self.n_items = n_items\n",
    "        self.n_factors = n_factors\n",
    "    \n",
    "    def __call__(self, x):\n",
    "        x = Embedding(self.n_items, self.n_factors, embeddings_initializer='he_normal', embeddings_regularizer=l2(1e-6))(x)\n",
    "        x = Reshape((self.n_factors,))(x)\n",
    "        \n",
    "        return x\n",
    "    \n",
    "def Recommender(n_users, n_rests, n_factors, min_rating, max_rating):\n",
    "    user = Input(shape=(1,))\n",
    "    u = EmbeddingLayer(n_users, n_factors)(user)\n",
    "    ub = EmbeddingLayer(n_users, 1)(user)\n",
    "    \n",
    "    restaurant = Input(shape=(1,))\n",
    "    m = EmbeddingLayer(n_rests, n_factors)(restaurant)\n",
    "    mb = EmbeddingLayer(n_rests, 1)(restaurant)   \n",
    "    \n",
    "    x = Dot(axes=1)([u, m])\n",
    "    x = Add()([x, ub, mb])\n",
    "    x = Activation('sigmoid')(x)\n",
    "    x = Lambda(lambda x: x * (max_rating - min_rating) + min_rating)(x)  \n",
    "    \n",
    "    model = Model(inputs=[user, restaurant], outputs=x)\n",
    "    opt = Adam(lr=0.001)\n",
    "    model.compile(loss='mean_squared_error', optimizer=opt)  \n",
    "    \n",
    "    return model"
   ]
  },
  {
   "cell_type": "code",
   "execution_count": null,
   "metadata": {},
   "outputs": [],
   "source": [
    "import tensorflow as tf\n",
    "print(tf.__version__)"
   ]
  },
  {
   "cell_type": "code",
   "execution_count": null,
   "metadata": {},
   "outputs": [],
   "source": [
    "# !pip uninstall keras"
   ]
  },
  {
   "cell_type": "code",
   "execution_count": null,
   "metadata": {},
   "outputs": [],
   "source": [
    "# !pip install keras"
   ]
  },
  {
   "cell_type": "code",
   "execution_count": null,
   "metadata": {},
   "outputs": [],
   "source": [
    "keras_model = Recommender(n_users, n_rests, n_factors, min_rating, max_rating)\n",
    "keras_model.summary()"
   ]
  },
  {
   "cell_type": "markdown",
   "metadata": {},
   "source": [
    "Let’s go ahead and train this for a few epochs and see what we get."
   ]
  },
  {
   "cell_type": "code",
   "execution_count": null,
   "metadata": {},
   "outputs": [],
   "source": [
    "keras_model.fit(x=X_train_array, y=y_train_keras, batch_size=64,\\\n",
    "                          epochs=5, verbose=1, validation_data=(X_test_array, y_test_keras))"
   ]
  },
  {
   "cell_type": "markdown",
   "metadata": {},
   "source": [
    "<a id=\"prediction\"></a>\n",
    "* **Prediction**\n",
    "\n",
    "After creating the model now it's time to predict the test dataset. "
   ]
  },
  {
   "cell_type": "code",
   "execution_count": null,
   "metadata": {},
   "outputs": [],
   "source": [
    "# prediction\n",
    "predictions = keras_model.predict(X_test_array)"
   ]
  },
  {
   "cell_type": "markdown",
   "metadata": {},
   "source": [
    "By creating the following table, we are able to see the model performance by comparing the actual stars and predictions."
   ]
  },
  {
   "cell_type": "code",
   "execution_count": null,
   "metadata": {},
   "outputs": [],
   "source": [
    "# create the df_test table with prediction results\n",
    "df_test = pd.DataFrame(X_test_keras[:,0])\n",
    "df_test.rename(columns={0: \"user\"}, inplace=True)\n",
    "df_test['business'] = X_test_keras[:,1]\n",
    "df_test['stars'] = y_test_keras\n",
    "df_test[\"predictions\"] = predictions\n",
    "df_test.head()"
   ]
  },
  {
   "cell_type": "code",
   "execution_count": null,
   "metadata": {},
   "outputs": [],
   "source": [
    "# Plotting the distribution of actual and predicted stars\n",
    "import matplotlib.pyplot as plt\n",
    "import seaborn as sns\n",
    "values, counts = np.unique(df_test['stars'], return_counts=True)\n",
    "\n",
    "plt.figure(figsize=(8,6))\n",
    "plt.bar(values, counts, tick_label=['1','2','3','4','5'], label='true value')\n",
    "plt.hist(predictions, color='orange', label='predicted value')\n",
    "plt.xlabel(\"Ratings\")\n",
    "plt.ylabel(\"Frequency\")\n",
    "plt.title(\"Ratings Histogram\")\n",
    "plt.legend()\n",
    "plt.show()"
   ]
  },
  {
   "cell_type": "code",
   "execution_count": null,
   "metadata": {},
   "outputs": [],
   "source": [
    "# # plot \n",
    "# import matplotlib.pyplot as plt\n",
    "# import seaborn as sns\n",
    "\n",
    "# plt.figure(figsize=(15,6))\n",
    "\n",
    "# ax1 = sns.distplot(df_test['stars'], hist=False, color=\"r\", label=\"Actual Value\")\n",
    "# sns.distplot(predictions, hist=False, color=\"g\", label=\"model2 Fitted Values\" , ax=ax1)\n",
    "\n",
    "# plt.title('Actual vs Fitted Values for Restaurant Ratings')\n",
    "# plt.xlabel('Stars')\n",
    "# plt.ylabel('Proportion of Ratings')\n",
    "\n",
    "# plt.show()\n",
    "# plt.close()"
   ]
  },
  {
   "cell_type": "markdown",
   "metadata": {},
   "source": [
    "<a id=\"cos-similarity\"></a>\n",
    "* **Cosine similarity**\n",
    "\n",
    "We will be using the Cosine Similarity to calculate a numeric quantity that denotes the similarity between two restaurants. Therefore, we need to extract embedding layers from the Keras model to compute the cosine similarity by doing a dot product."
   ]
  },
  {
   "cell_type": "code",
   "execution_count": null,
   "metadata": {},
   "outputs": [],
   "source": [
    "# Extract embeddings\n",
    "emb = keras_model.get_layer('embedding_3')\n",
    "emb_weights = emb.get_weights()[0]\n",
    "\n",
    "print(\"The shape of embedded weights: \", emb_weights.shape)\n",
    "print(\"The length of embedded weights: \", len(emb_weights))"
   ]
  },
  {
   "cell_type": "markdown",
   "metadata": {},
   "source": [
    "Each restaurant is now represented as a 50-dimensional vector. We need to normalize the embeddings so that the dot product between two embeddings becomes the cosine similarity.\n",
    "\n",
    "Source:  https://towardsdatascience.com/building-a-recommendation-system-using-neural-network-embeddings-1ef92e5c80c9"
   ]
  },
  {
   "cell_type": "code",
   "execution_count": null,
   "metadata": {},
   "outputs": [],
   "source": [
    "# normalize and reshape embedded weights\n",
    "emb_weights = emb_weights / np.linalg.norm(emb_weights, axis = 1).reshape((-1, 1))\n",
    "len(emb_weights)"
   ]
  },
  {
   "cell_type": "code",
   "execution_count": null,
   "metadata": {},
   "outputs": [],
   "source": [
    "# get all unique business_ids (restaurants)\n",
    "rest_id_emb = combined_business_data_keras[\"business_id\"].unique()\n",
    "len(rest_id_emb)"
   ]
  },
  {
   "cell_type": "markdown",
   "metadata": {},
   "source": [
    "We are going to create a table that contains all the unique restaurants in 50 dimensions with their embedded weights."
   ]
  },
  {
   "cell_type": "code",
   "execution_count": null,
   "metadata": {},
   "outputs": [],
   "source": [
    "rest_pd = pd.DataFrame(emb_weights)\n",
    "rest_pd[\"business_id\"] = rest_id_emb\n",
    "rest_pd = rest_pd.set_index(\"business_id\")\n",
    "rest_pd"
   ]
  },
  {
   "cell_type": "code",
   "execution_count": null,
   "metadata": {},
   "outputs": [],
   "source": [
    "# merging rest_pd and temp tables to get the name of the restaurants.\n",
    "temp = combined_business_data_keras[['business_id', 'name']].drop_duplicates()\n",
    "df_recommend = pd.merge(rest_pd, temp, on='business_id')\n",
    "df_recommend"
   ]
  },
  {
   "cell_type": "markdown",
   "metadata": {},
   "source": [
    "<a id=\"recommendation\"></a>\n",
    "* **Recommendation**\n",
    "\n",
    "Now we going to use this model to recommend restaurants to a popular restaurant which was \"Wvrst\"."
   ]
  },
  {
   "cell_type": "code",
   "execution_count": null,
   "metadata": {},
   "outputs": [],
   "source": [
    "# exrtract the target restaurant from the df_recommend table\n",
    "target = df_recommend[df_recommend['name'] == 'Wvrst']\n",
    "target.iloc[:,1:51]"
   ]
  },
  {
   "cell_type": "markdown",
   "metadata": {},
   "source": [
    "We are creating a function that calculates the cosine similarity between the target and the rest of the other restaurants and returns the table with the result."
   ]
  },
  {
   "cell_type": "code",
   "execution_count": null,
   "metadata": {},
   "outputs": [],
   "source": [
    "def find_similarity_total(rest_name):\n",
    "    \"\"\"Recommends restaurant based on the cosine similarity between restaurants\"\"\"\n",
    "    cosine_list_total = []\n",
    "    result = []\n",
    "\n",
    "    for i in range(0, df_recommend.shape[0]):\n",
    "        sample_name = df_recommend[df_recommend[\"name\"] == rest_name].iloc[:,1:51]\n",
    "        row = df_recommend.iloc[i,1:51]\n",
    "        cosine_total = np.dot(sample_name, row)\n",
    "        \n",
    "        recommended_name = df_recommend.iloc[i,51]\n",
    "        cosine_list_total.append(cosine_total)\n",
    "        result.append(recommended_name)\n",
    "        \n",
    "    cosine_df_total = pd.DataFrame({\"similar_rest\" : result, \"cosine\" : cosine_list_total})\n",
    "\n",
    "    return cosine_df_total"
   ]
  },
  {
   "cell_type": "code",
   "execution_count": null,
   "metadata": {},
   "outputs": [],
   "source": [
    "# call the function with input of \"Wvrst\" and store it in result variable.\n",
    "result = find_similarity_total('Wvrst')"
   ]
  },
  {
   "cell_type": "code",
   "execution_count": null,
   "metadata": {},
   "outputs": [],
   "source": [
    "# head of result table\n",
    "result.head()"
   ]
  },
  {
   "cell_type": "markdown",
   "metadata": {},
   "source": [
    "We created the following function to get rid of the \"[ ]\" in \"cosine\" column."
   ]
  },
  {
   "cell_type": "code",
   "execution_count": null,
   "metadata": {},
   "outputs": [],
   "source": [
    "'''\n",
    "- function that replace '[]' to empty str \n",
    "- convert string to float\n",
    "'''\n",
    "def convert(input):\n",
    "    return float(str(input).replace('[','').replace(']',''))"
   ]
  },
  {
   "cell_type": "code",
   "execution_count": null,
   "metadata": {},
   "outputs": [],
   "source": [
    "# create new column called \"cos\" in result table\n",
    "result['cos'] = result.apply(lambda x: convert(x['cosine']), axis=1)\n",
    "\n",
    "# drop original 'cosine' column (which had values with np.array)\n",
    "result.drop('cosine', axis=1, inplace=True)\n",
    "\n",
    "# sort values with cos\n",
    "result.sort_values('cos', ascending=False).head(10)"
   ]
  }
 ],
 "metadata": {
  "kernelspec": {
   "display_name": "Python 3 (ipykernel)",
   "language": "python",
   "name": "python3"
  },
  "language_info": {
   "codemirror_mode": {
    "name": "ipython",
    "version": 3
   },
   "file_extension": ".py",
   "mimetype": "text/x-python",
   "name": "python",
   "nbconvert_exporter": "python",
   "pygments_lexer": "ipython3",
   "version": "3.9.13"
  }
 },
 "nbformat": 4,
 "nbformat_minor": 4
}
