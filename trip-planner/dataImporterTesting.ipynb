{
 "cells": [
  {
   "cell_type": "code",
   "execution_count": null,
   "id": "13d9e6d8",
   "metadata": {},
   "outputs": [],
   "source": [
    "\n",
    "from modules.constants import YELP_DATASETS\n",
    "import pandas as pd\n",
    "import os\n",
    "from pyspark.sql import SparkSession\n",
    "from modules.dataImporter import yelp_import\n",
    "\n",
    "datasets, spark = yelp_import(\"small\")"
   ]
  },
  {
   "cell_type": "code",
   "execution_count": null,
   "id": "6e2fa4d7",
   "metadata": {},
   "outputs": [],
   "source": [
    "import timeit\n",
    "\n",
    "start = timeit.timeit()\n",
    "data, spark = yelp_import(\"large\", \"pandas\")\n",
    "end = timeit.timeit()\n",
    "\n",
    "print(f\"Time: {end-start}\")\n"
   ]
  },
  {
   "cell_type": "code",
   "execution_count": null,
   "id": "baf783bf",
   "metadata": {},
   "outputs": [],
   "source": [
    "start = timeit.timeit()\n",
    "data, spark = yelp_import(\"large\", \"spark\")\n",
    "end = timeit.timeit()\n",
    "\n",
    "print(f\"Time: {end-start}\")\n"
   ]
  }
 ],
 "metadata": {
  "kernelspec": {
   "display_name": "Python 3 (ipykernel)",
   "language": "python",
   "name": "python3"
  },
  "language_info": {
   "codemirror_mode": {
    "name": "ipython",
    "version": 3
   },
   "file_extension": ".py",
   "mimetype": "text/x-python",
   "name": "python",
   "nbconvert_exporter": "python",
   "pygments_lexer": "ipython3",
   "version": "3.11.2"
  },
  "vscode": {
   "interpreter": {
    "hash": "2c055120e90413c7a6426da43687fc843cb3640cbfc6a57413de5a25d524f439"
   }
  }
 },
 "nbformat": 4,
 "nbformat_minor": 5
}
