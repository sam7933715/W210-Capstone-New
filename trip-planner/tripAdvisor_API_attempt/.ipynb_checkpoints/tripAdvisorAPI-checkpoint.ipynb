{
 "cells": [
  {
   "cell_type": "code",
   "execution_count": 103,
   "id": "28935d40",
   "metadata": {},
   "outputs": [],
   "source": [
    "from api_key import API_KEY\n",
    "import pandas as pd\n",
    "import requests as re\n",
    "import json\n",
    "\n",
    "headers = {\"accept\": \"application/json\"}\n",
    "\n",
    "api_results = []\n"
   ]
  },
  {
   "cell_type": "code",
   "execution_count": 104,
   "id": "d95c47c4",
   "metadata": {},
   "outputs": [],
   "source": [
    "def create_api_call(call_type, api_args):\n",
    "    \"\"\"A function to help create API Calls.\n",
    "    \n",
    "    This returns the link and headers \n",
    "    \n",
    "    Args:\n",
    "        call_type - Str: A str that can help select which type of API call to build. \n",
    "        api_args - Dict: A Dict of arguments to be added to the end of the API call link. \n",
    "    \"\"\"\n",
    "    \n",
    "    \n",
    "    if call_type == \"location_search\":\n",
    "        base_url = \"https://api.content.tripadvisor.com/api/v1/location/search?\"\n",
    "        args_url = \"\"\n",
    "        \n",
    "        # The API Key is added first to easily format the \"&\" in the url. It is also always required. \n",
    "        base_url += f\"key={api_args['key']}\".replace(' ', '%20')\n",
    "        \n",
    "        \n",
    "        for arg_name, arg in api_args.items():\n",
    "            if arg_name == \"key\":\n",
    "                continue\n",
    "            else:\n",
    "                args_url += f\"&{arg_name}={arg}\"\n",
    "    else:\n",
    "        return \"implement more API searches\"\n",
    "    \n",
    "    return base_url + args_url\n",
    "        "
   ]
  },
  {
   "cell_type": "code",
   "execution_count": 105,
   "id": "93bca1c4",
   "metadata": {},
   "outputs": [],
   "source": [
    "\n",
    "args = {\"key\": API_KEY,\n",
    "        \"searchQuery\": \"San Francisco\",\n",
    "        \"category\": \"attractions\",\n",
    "        \"language\": \"en\",\n",
    "        \"radius\": \"0.25\",\n",
    "        \"radiusUnit\": \"mi\"}\n",
    "\n",
    "url = create_api_call(\"location_search\", args)\n",
    "\n",
    "response = re.get(url, headers=headers)\n",
    "\n",
    "api_results.append(response)"
   ]
  },
  {
   "cell_type": "markdown",
   "id": "65b270c6",
   "metadata": {},
   "source": [
    "# Location Search Options\n",
    "\n",
    "The Trip Advisor API for location search returns 10 locations per search. Specify things like \"Hotels\", \"Attrations\", or other search parameters in the searchQuery arg. To get a larger list of locations, a strategy is required, and multiple querries will need to be executed.\n",
    "\n",
    "Ideas: \n",
    "1. Find the 10 best attractions in a city. For each attraction, find the 10 best attractions within 1 mile, 10 miles, and 100 yards. Keep finding attractions until you get a certain amount or hit a query count limiter. \n",
    "\n",
    "How to store the response: \n",
    " - Use json loads on the text. \n",
    " - Store in a JSON file. \n"
   ]
  },
  {
   "cell_type": "markdown",
   "id": "cd81b9db",
   "metadata": {},
   "source": [
    "# Lat Long Search\n",
    "\n",
    "San Francisco Spans roughly from (37.80453, -122.51981) to (37.71159, -122.38256)"
   ]
  },
  {
   "cell_type": "code",
   "execution_count": null,
   "id": "1a76cfda",
   "metadata": {},
   "outputs": [],
   "source": []
  },
  {
   "cell_type": "code",
   "execution_count": 108,
   "id": "23917c70",
   "metadata": {},
   "outputs": [
    {
     "data": {
      "text/plain": [
       "[{'location_id': '60713',\n",
       "  'name': 'San Francisco',\n",
       "  'address_obj': {'state': 'California',\n",
       "   'country': 'United States',\n",
       "   'address_string': 'San Francisco, CA'}},\n",
       " {'location_id': '81103',\n",
       "  'name': 'Hyatt Regency San Francisco',\n",
       "  'address_obj': {'street1': '5 Embarcadero Center',\n",
       "   'street2': '',\n",
       "   'city': 'San Francisco',\n",
       "   'state': 'California',\n",
       "   'country': 'United States',\n",
       "   'postalcode': '94111-4800',\n",
       "   'address_string': '5 Embarcadero Center, San Francisco, CA 94111-4800'}},\n",
       " {'location_id': '81397',\n",
       "  'name': 'Fairmont San Francisco',\n",
       "  'address_obj': {'street1': '950 Mason St',\n",
       "   'street2': '',\n",
       "   'city': 'San Francisco',\n",
       "   'state': 'California',\n",
       "   'country': 'United States',\n",
       "   'postalcode': '94108-6000',\n",
       "   'address_string': '950 Mason St, San Francisco, CA 94108-6000'}},\n",
       " {'location_id': '81222',\n",
       "  'name': 'Hotel Zephyr San Francisco',\n",
       "  'address_obj': {'street1': '250 Beach Street',\n",
       "   'street2': 'Fisherman’s Wharf',\n",
       "   'city': 'San Francisco',\n",
       "   'state': 'California',\n",
       "   'country': 'United States',\n",
       "   'postalcode': '94133',\n",
       "   'address_string': '250 Beach Street Fisherman’s Wharf, San Francisco, CA 94133'}},\n",
       " {'location_id': '676408',\n",
       "  'name': 'InterContinental San Francisco',\n",
       "  'address_obj': {'street1': '888 Howard Street',\n",
       "   'street2': '',\n",
       "   'city': 'San Francisco',\n",
       "   'state': 'California',\n",
       "   'country': 'United States',\n",
       "   'postalcode': '94103-3011',\n",
       "   'address_string': '888 Howard Street, San Francisco, CA 94103-3011'}},\n",
       " {'location_id': '80747',\n",
       "  'name': 'Stanford Court San Francisco',\n",
       "  'address_obj': {'street1': '905 California Street',\n",
       "   'street2': 'Nob Hill',\n",
       "   'city': 'San Francisco',\n",
       "   'state': 'California',\n",
       "   'country': 'United States',\n",
       "   'postalcode': '94108-2201',\n",
       "   'address_string': '905 California Street Nob Hill, San Francisco, CA 94108-2201'}},\n",
       " {'location_id': '80793',\n",
       "  'name': 'Hotel Nikko San Francisco',\n",
       "  'address_obj': {'street1': '222 Mason St',\n",
       "   'street2': '',\n",
       "   'city': 'San Francisco',\n",
       "   'state': 'California',\n",
       "   'country': 'United States',\n",
       "   'postalcode': '94102',\n",
       "   'address_string': '222 Mason St, San Francisco, CA 94102'}},\n",
       " {'location_id': '81315',\n",
       "  'name': 'Marriott Marquis San Francisco',\n",
       "  'address_obj': {'street1': '780 Mission Street',\n",
       "   'street2': '',\n",
       "   'city': 'San Francisco',\n",
       "   'state': 'California',\n",
       "   'country': 'United States',\n",
       "   'postalcode': '94103',\n",
       "   'address_string': '780 Mission Street, San Francisco, CA 94103'}},\n",
       " {'location_id': '224948',\n",
       "  'name': 'Omni San Francisco Hotel',\n",
       "  'address_obj': {'street1': '500 California St',\n",
       "   'street2': '',\n",
       "   'city': 'San Francisco',\n",
       "   'state': 'California',\n",
       "   'country': 'United States',\n",
       "   'postalcode': '94104-1001',\n",
       "   'address_string': '500 California St, San Francisco, CA 94104-1001'}},\n",
       " {'location_id': '112307',\n",
       "  'name': 'Hotel Emblem San Francisco',\n",
       "  'address_obj': {'street1': '562 Sutter St',\n",
       "   'city': 'San Francisco',\n",
       "   'state': 'California',\n",
       "   'country': 'United States',\n",
       "   'postalcode': '94102-1102',\n",
       "   'address_string': '562 Sutter St, San Francisco, CA 94102-1102'}}]"
      ]
     },
     "execution_count": 108,
     "metadata": {},
     "output_type": "execute_result"
    }
   ],
   "source": [
    "json_dict = json.loads(api_results[0].text)\n",
    "\n",
    "json_dict[\"data\"]"
   ]
  },
  {
   "cell_type": "code",
   "execution_count": 109,
   "id": "f01c086d",
   "metadata": {},
   "outputs": [
    {
     "data": {
      "text/plain": [
       "'https://api.content.tripadvisor.com/api/v1/location/search?key=8E2A4AEFB308406DB0D0A1FB8EF081A0&searchQuery=San Francisco&category=attractions&language=en'"
      ]
     },
     "execution_count": 109,
     "metadata": {},
     "output_type": "execute_result"
    }
   ],
   "source": [
    "url"
   ]
  },
  {
   "cell_type": "code",
   "execution_count": null,
   "id": "efdc7a46",
   "metadata": {},
   "outputs": [],
   "source": []
  }
 ],
 "metadata": {
  "kernelspec": {
   "display_name": "Python 3 (ipykernel)",
   "language": "python",
   "name": "python3"
  },
  "language_info": {
   "codemirror_mode": {
    "name": "ipython",
    "version": 3
   },
   "file_extension": ".py",
   "mimetype": "text/x-python",
   "name": "python",
   "nbconvert_exporter": "python",
   "pygments_lexer": "ipython3",
   "version": "3.9.15"
  }
 },
 "nbformat": 4,
 "nbformat_minor": 5
}
