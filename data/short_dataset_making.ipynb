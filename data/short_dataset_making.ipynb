{
 "cells": [
  {
   "cell_type": "code",
   "execution_count": 1,
   "id": "42625d66",
   "metadata": {},
   "outputs": [],
   "source": [
    "from modules.dataImporter import yelp_import\n",
    "from modules.constants import YELP_DATASETS"
   ]
  },
  {
   "cell_type": "code",
   "execution_count": 2,
   "id": "ac9ac585",
   "metadata": {},
   "outputs": [],
   "source": [
    "datasets = yelp_import(\"large\")"
   ]
  },
  {
   "cell_type": "code",
   "execution_count": 3,
   "id": "64407a79",
   "metadata": {},
   "outputs": [
    {
     "data": {
      "text/plain": [
       "dict_keys(['businesses', 'reviews', 'checkins', 'tips', 'users'])"
      ]
     },
     "execution_count": 3,
     "metadata": {},
     "output_type": "execute_result"
    }
   ],
   "source": [
    "datasets.keys()"
   ]
  },
  {
   "cell_type": "code",
   "execution_count": 4,
   "id": "db2a383d",
   "metadata": {},
   "outputs": [],
   "source": [
    "for key, item in datasets.items():\n",
    "    item[:1500].to_json(\"yelp_dataset/smaller/\" + YELP_DATASETS[key])"
   ]
  },
  {
   "cell_type": "code",
   "execution_count": null,
   "id": "c7a02f18",
   "metadata": {},
   "outputs": [],
   "source": []
  },
  {
   "cell_type": "code",
   "execution_count": null,
   "id": "0f29766c",
   "metadata": {},
   "outputs": [],
   "source": []
  }
 ],
 "metadata": {
  "kernelspec": {
   "display_name": "Python 3 (ipykernel)",
   "language": "python",
   "name": "python3"
  },
  "language_info": {
   "codemirror_mode": {
    "name": "ipython",
    "version": 3
   },
   "file_extension": ".py",
   "mimetype": "text/x-python",
   "name": "python",
   "nbconvert_exporter": "python",
   "pygments_lexer": "ipython3",
   "version": "3.9.15"
  }
 },
 "nbformat": 4,
 "nbformat_minor": 5
}
