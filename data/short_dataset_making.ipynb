{
 "cells": [
  {
   "cell_type": "code",
   "execution_count": 1,
   "id": "42625d66",
   "metadata": {},
   "outputs": [
    {
     "name": "stdout",
     "output_type": "stream",
     "text": [
      "c:\\Users\\bayardcarlson\\Documents\\trip-planner-capstone\n"
     ]
    }
   ],
   "source": [
    "from modules.constants import YELP_DATASETS\n",
    "from modules.dataImporter import yelp_import"
   ]
  },
  {
   "cell_type": "code",
   "execution_count": null,
   "id": "ac9ac585",
   "metadata": {},
   "outputs": [],
   "source": [
    "datasets = yelp_import(\"small\")"
   ]
  },
  {
   "cell_type": "code",
   "execution_count": null,
   "id": "64407a79",
   "metadata": {},
   "outputs": [],
   "source": [
    "datasets.keys()"
   ]
  },
  {
   "cell_type": "code",
   "execution_count": null,
   "id": "db2a383d",
   "metadata": {},
   "outputs": [],
   "source": [
    "for key, item in datasets.items():\n",
    "    item[:1500].to_json(\n",
    "        \"yelp_dataset/smaller/\" + YELP_DATASETS[key], oreient=\"records\", lines=True\n",
    "    )"
   ]
  },
  {
   "cell_type": "code",
   "execution_count": null,
   "id": "c7a02f18",
   "metadata": {},
   "outputs": [],
   "source": []
  },
  {
   "cell_type": "code",
   "execution_count": null,
   "id": "0f29766c",
   "metadata": {},
   "outputs": [],
   "source": []
  }
 ],
 "metadata": {
  "kernelspec": {
   "display_name": "Python 3 (ipykernel)",
   "language": "python",
   "name": "python3"
  },
  "language_info": {
   "codemirror_mode": {
    "name": "ipython",
    "version": 3
   },
   "file_extension": ".py",
   "mimetype": "text/x-python",
   "name": "python",
   "nbconvert_exporter": "python",
   "pygments_lexer": "ipython3",
   "version": "3.8.1"
  },
  "vscode": {
   "interpreter": {
    "hash": "2c055120e90413c7a6426da43687fc843cb3640cbfc6a57413de5a25d524f439"
   }
  }
 },
 "nbformat": 4,
 "nbformat_minor": 5
}
