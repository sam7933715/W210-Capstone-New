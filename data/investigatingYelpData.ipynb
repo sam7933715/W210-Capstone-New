{
 "cells": [
  {
   "cell_type": "code",
   "execution_count": 1,
   "id": "a41197b7",
   "metadata": {},
   "outputs": [],
   "source": [
    "import pandas as pd\n",
    "import json"
   ]
  },
  {
   "cell_type": "code",
   "execution_count": null,
   "id": "d46c7c05",
   "metadata": {},
   "outputs": [],
   "source": [
    "# Loading Data\n",
    "yelp_datasets = {\n",
    "    \"businesses\": \"yelp_dataset/yelp_academic_dataset_business.json\",\n",
    "    \"reviews\": \"yelp_dataset/yelp_academic_dataset_review.json\",\n",
    "    \"checkins\": \"yelp_dataset/yelp_academic_dataset_checkin.json\",\n",
    "    \"tips\": \"yelp_dataset/yelp_academic_dataset_tip.json\",\n",
    "    \"users\": \"yelp_dataset/yelp_academic_dataset_user.json\",\n",
    "}\n",
    "\n",
    "for name, file_name in yelp_datasets.items():\n",
    "    data_out = []\n",
    "    with open(file_name, \"r\") as file:\n",
    "        for line in file:\n",
    "            data_out.append(json.loads(line))\n",
    "    yelp_datasets[name] = data_out"
   ]
  },
  {
   "cell_type": "code",
   "execution_count": 2,
   "id": "a0f419a5",
   "metadata": {},
   "outputs": [],
   "source": [
    "# Saving smaller versions of the dataset for working with later.\n",
    "\n",
    "from modules.dataImporter import yelp_import\n",
    "\n",
    "datasets = yelp_import(\"small\")"
   ]
  },
  {
   "cell_type": "code",
   "execution_count": 5,
   "id": "db57da8d",
   "metadata": {},
   "outputs": [],
   "source": [
    "from modules.constants import YELP_DATASETS\n",
    "\n",
    "for key, path in YELP_DATASETS.items():\n",
    "    df = datasets[key]\n",
    "    df = df[:1500]\n",
    "    df.to_json(f\"yelp_dataset/smaller/{path}\", orient=\"records\", lines=True)"
   ]
  },
  {
   "cell_type": "code",
   "execution_count": null,
   "id": "52c768f2",
   "metadata": {},
   "outputs": [],
   "source": [
    "business_data = pd.DataFrame(yelp_datasets[\"businesses\"])"
   ]
  },
  {
   "cell_type": "code",
   "execution_count": null,
   "id": "a584a67a",
   "metadata": {},
   "outputs": [],
   "source": [
    "business_data.head()"
   ]
  },
  {
   "cell_type": "code",
   "execution_count": null,
   "id": "a665d0a4",
   "metadata": {},
   "outputs": [],
   "source": [
    "user_data = pd.DataFrame(yelp_datasets[\"users\"])\n",
    "user_data.head()"
   ]
  },
  {
   "cell_type": "code",
   "execution_count": null,
   "id": "a73b2a9b",
   "metadata": {},
   "outputs": [],
   "source": [
    "checkin_data = pd.DataFrame(yelp_datasets[\"checkins\"])\n",
    "checkin_data.head()"
   ]
  },
  {
   "cell_type": "code",
   "execution_count": null,
   "id": "e59384ff",
   "metadata": {},
   "outputs": [],
   "source": [
    "tips_data = pd.DataFrame(yelp_datasets[\"tips\"])\n",
    "tips_data.head()"
   ]
  },
  {
   "cell_type": "code",
   "execution_count": null,
   "id": "0815248c",
   "metadata": {},
   "outputs": [],
   "source": [
    "reviews_data = pd.DataFrame(yelp_datasets[\"reviews\"])\n",
    "reviews_data.head()"
   ]
  },
  {
   "cell_type": "code",
   "execution_count": null,
   "id": "cfba4925",
   "metadata": {},
   "outputs": [],
   "source": [
    "from text_process import review_process"
   ]
  },
  {
   "cell_type": "code",
   "execution_count": null,
   "id": "8487045c",
   "metadata": {},
   "outputs": [],
   "source": [
    "review_process(\"hello,world\")"
   ]
  },
  {
   "cell_type": "code",
   "execution_count": null,
   "id": "6d5bc943",
   "metadata": {},
   "outputs": [],
   "source": []
  }
 ],
 "metadata": {
  "kernelspec": {
   "display_name": "Python 3",
   "language": "python",
   "name": "python3"
  },
  "language_info": {
   "codemirror_mode": {
    "name": "ipython",
    "version": 3
   },
   "file_extension": ".py",
   "mimetype": "text/x-python",
   "name": "python",
   "nbconvert_exporter": "python",
   "pygments_lexer": "ipython3",
   "version": "3.7.12"
  },
  "vscode": {
   "interpreter": {
    "hash": "3131e811d7c3c48b0f862f768859728e54c8caebf1feb919d9ca37f94259397e"
   }
  }
 },
 "nbformat": 4,
 "nbformat_minor": 5
}
