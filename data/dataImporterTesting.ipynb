{
 "cells": [
  {
   "cell_type": "code",
   "execution_count": null,
   "id": "13d9e6d8",
   "metadata": {},
   "outputs": [],
   "source": [
    "\n",
    "from modules.constants import YELP_DATASETS\n",
    "import pandas as pd\n",
    "import os\n",
    "from pyspark.sql import SparkSession\n",
    "from modules.dataImporter import yelp_import\n",
    "\n",
    "datasets, spark = yelp_import(\"small\")"
   ]
  },
  {
   "cell_type": "code",
   "execution_count": null,
   "id": "6e2fa4d7",
   "metadata": {},
   "outputs": [],
   "source": [
    "import timeit\n",
    "\n",
    "print(timeit(yelp_import(\"large\", \"pandas\")))\n",
    "print(timeit(yelp_import(\"large\", \"spark\")))"
   ]
  },
  {
   "cell_type": "code",
   "execution_count": null,
   "id": "baf783bf",
   "metadata": {},
   "outputs": [],
   "source": []
  }
 ],
 "metadata": {
  "kernelspec": {
   "display_name": "Python 3 (ipykernel)",
   "language": "python",
   "name": "python3"
  },
  "language_info": {
   "codemirror_mode": {
    "name": "ipython",
    "version": 3
   },
   "file_extension": ".py",
   "mimetype": "text/x-python",
   "name": "python",
   "nbconvert_exporter": "python",
   "pygments_lexer": "ipython3",
   "version": "3.8.1"
  },
  "vscode": {
   "interpreter": {
    "hash": "2c055120e90413c7a6426da43687fc843cb3640cbfc6a57413de5a25d524f439"
   }
  }
 },
 "nbformat": 4,
 "nbformat_minor": 5
}
